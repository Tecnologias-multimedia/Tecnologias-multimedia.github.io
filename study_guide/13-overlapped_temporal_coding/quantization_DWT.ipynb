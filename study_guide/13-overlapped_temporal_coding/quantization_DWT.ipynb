{
 "cells": [
  {
   "cell_type": "markdown",
   "metadata": {},
   "source": [
    "# Chunk discontinuities in quantized block-based (non-overlapped) DWT-transformed audio signals\n",
    "\n",
    "Let's research how quantization affects to the reconstruction of the chunks when they are DWT-transformed."
   ]
  },
  {
   "cell_type": "code",
   "execution_count": null,
   "metadata": {},
   "outputs": [],
   "source": [
    "import sounddevice as sd\n",
    "import pywt\n",
    "import math\n",
    "import numpy as np\n",
    "%matplotlib inline\n",
    "import matplotlib\n",
    "import matplotlib.pyplot as plt\n",
    "from scipy import signal\n",
    "from ipywidgets import interact, interactive, fixed, interact_manual\n",
    "import ipywidgets as widgets\n",
    "import pylab"
   ]
  },
  {
   "cell_type": "markdown",
   "metadata": {},
   "source": [
    "## Capture an audio sequence"
   ]
  },
  {
   "cell_type": "code",
   "execution_count": null,
   "metadata": {},
   "outputs": [],
   "source": [
    "def plot(y, xlabel='', ylabel='', title='', marker='.'):\n",
    "    fig = plt.figure()\n",
    "    ax = fig.add_subplot(111)\n",
    "    ax.set_title(title)\n",
    "    ax.grid()\n",
    "    ax.xaxis.set_label_text(xlabel)\n",
    "    ax.yaxis.set_label_text(ylabel)\n",
    "    x = np.linspace(0, len(y)-1, num=len(y))\n",
    "    ax.plot(x, y, marker, markersize=1)\n",
    "    plt.show(block=False)"
   ]
  },
  {
   "cell_type": "code",
   "execution_count": null,
   "metadata": {},
   "outputs": [],
   "source": [
    "fs = 44100\n",
    "duration = 80000/44100  # seconds\n",
    "signal = sd.rec(int(duration * fs), samplerate=fs, channels=1, dtype=np.int16)\n",
    "print(\"Say something!\")\n",
    "while sd.wait():\n",
    "    pass\n",
    "print(\"done\")\n",
    "signal = signal.flatten()"
   ]
  },
  {
   "cell_type": "code",
   "execution_count": null,
   "metadata": {},
   "outputs": [],
   "source": [
    "plot(signal, \"sample\", \"amplitude\", \"original\")"
   ]
  },
  {
   "cell_type": "markdown",
   "metadata": {},
   "source": [
    "### Configuration of the experiment"
   ]
  },
  {
   "cell_type": "code",
   "execution_count": null,
   "metadata": {},
   "outputs": [],
   "source": [
    "levels = 6           # Number of levels of the DWT\n",
    "#filters_name = \"db5\"\n",
    "#filters_name = \"haar\"\n",
    "#filters_name = \"db11\"\n",
    "#filters_name = \"db20\"\n",
    "#filters_name = \"bior2.2\"\n",
    "#filters_name = \"bior3.5\"\n",
    "filters_name = \"bior3.7\"\n",
    "#filters_name = \"rbio2.2\"\n",
    "wavelet = pywt.Wavelet(filters_name)\n",
    "signal_mode_extension = \"per\"\n",
    "quantization_step = 2048\n",
    "chunk_size = 1024\n",
    "chunk_number = 10"
   ]
  },
  {
   "cell_type": "markdown",
   "metadata": {},
   "source": [
    "## Dead-zone quantizer"
   ]
  },
  {
   "cell_type": "code",
   "execution_count": null,
   "metadata": {},
   "outputs": [],
   "source": [
    "def deadzone_quantizer(x, quantization_step):\n",
    "    k = (x / quantization_step).astype(np.int)\n",
    "    return k\n",
    "\n",
    "def deadzone_dequantizer(k, quantization_step):\n",
    "    y = quantization_step * k\n",
    "    return y"
   ]
  },
  {
   "cell_type": "markdown",
   "metadata": {},
   "source": [
    "## Extract 3 consecutive chunks from the audio sequence"
   ]
  },
  {
   "cell_type": "code",
   "execution_count": null,
   "metadata": {},
   "outputs": [],
   "source": [
    "left_chunk = signal[chunk_size * (chunk_number - 1) : chunk_size * chunk_number]\n",
    "center_chunk = signal[chunk_size * chunk_number : chunk_size * (chunk_number + 1)]\n",
    "right_chunk = signal[chunk_size * (chunk_number + 1) : chunk_size * (chunk_number + 2)]\n",
    "chunks = np.concatenate([left_chunk, center_chunk, right_chunk])\n",
    "#pylab.xlim([len(left_chunk) - number_of_overlapped_samples, len(left_chunk)*2 + number_of_overlapped_samples])\n",
    "pylab.plot(np.linspace(0, len(left_chunk)-1, len(left_chunk)), left_chunk)\n",
    "pylab.plot(np.linspace(len(left_chunk), len(left_chunk) + len(center_chunk) - 1, len(center_chunk)), center_chunk)\n",
    "pylab.plot(np.linspace(len(left_chunk) + len(center_chunk), len(left_chunk) + len(center_chunk) + len(right_chunk) - 1, len(right_chunk)), right_chunk)\n",
    "pylab.xlabel(\"sample\")\n",
    "pylab.ylabel(\"amplitude\")\n",
    "pylab.title(\"3 consecutive chunks\")\n",
    "pylab.savefig(\"3_chunks.svg\")\n",
    "pylab.show()"
   ]
  },
  {
   "cell_type": "code",
   "execution_count": null,
   "metadata": {},
   "outputs": [],
   "source": [
    "number_of_overlapped_samples = 1 << math.ceil(math.log((wavelet.dec_len+0) * levels) / math.log(2))\n",
    "#number_of_overlapped_samples = 8\n",
    "number_of_overlapped_samples"
   ]
  },
  {
   "cell_type": "markdown",
   "metadata": {},
   "source": [
    "## Algorithm 0: Quantization of the chunks in the DWT domain\n",
    "\n",
    "* For each chunk:\n",
    "    * Transform.\n",
    "    * Quantize.\n",
    "    * Dequantize.\n",
    "    * Detransform."
   ]
  },
  {
   "cell_type": "code",
   "execution_count": null,
   "metadata": {},
   "outputs": [],
   "source": [
    "def transform_and_quantize(chunk):\n",
    "    decomposition = pywt.wavedec(chunk, wavelet=wavelet, level=levels, mode=signal_mode_extension)\n",
    "    quantized_decomposition = []\n",
    "    for subband in decomposition:\n",
    "        quantized_subband = deadzone_quantizer(subband, quantization_step)\n",
    "        quantized_decomposition.append(quantized_subband)\n",
    "    return quantized_decomposition\n",
    "    \n",
    "def dequantize_and_detransform(decomposition):\n",
    "    dequantized_decomposition = []\n",
    "    for subband in decomposition:\n",
    "        dequantized_subband = deadzone_dequantizer(subband, quantization_step)\n",
    "        dequantized_decomposition.append(dequantized_subband)\n",
    "    chunk = pywt.waverec(dequantized_decomposition, wavelet=wavelet, mode=signal_mode_extension)\n",
    "    return chunk\n",
    "\n",
    "def reconstruct_chunk(chunk):\n",
    "    quantized_subbands = transform_and_quantize(chunk)\n",
    "    reconstructed_chunk = dequantize_and_detransform(quantized_subbands)\n",
    "    return reconstructed_chunk"
   ]
  },
  {
   "cell_type": "code",
   "execution_count": null,
   "metadata": {},
   "outputs": [],
   "source": [
    "reconstructed_left_chunk = reconstruct_chunk(left_chunk)[-number_of_overlapped_samples:]\n",
    "reconstructed_center_chunk = reconstruct_chunk(center_chunk)\n",
    "reconstructed_right_chunk = reconstruct_chunk(right_chunk)[:number_of_overlapped_samples]\n",
    "ideal_chunks_reconstruction = reconstruct_chunk(chunks)\n",
    "_ideal_chunks_reconstruction = ideal_chunks_reconstruction[(-number_of_overlapped_samples  + len(left_chunk)):-(-number_of_overlapped_samples+len(left_chunk))]\n",
    "\n",
    "pylab.plot(np.linspace(0, len(reconstructed_left_chunk)-1, len(reconstructed_left_chunk)),\n",
    "           reconstructed_left_chunk)\n",
    "pylab.plot(np.linspace(len(reconstructed_left_chunk),\n",
    "                       len(reconstructed_left_chunk) + len(reconstructed_center_chunk) - 1,\n",
    "                       len(reconstructed_center_chunk)),\n",
    "           reconstructed_center_chunk, label=\"reconstruction\")\n",
    "pylab.plot(np.linspace(len(reconstructed_left_chunk) + len(reconstructed_center_chunk),\n",
    "                       len(reconstructed_left_chunk) + len(reconstructed_center_chunk) + len(reconstructed_right_chunk) - 1,\n",
    "                       len(reconstructed_right_chunk)), reconstructed_right_chunk)\n",
    "pylab.plot(np.linspace(0, len(_ideal_chunks_reconstruction)-1,\n",
    "                       len(_ideal_chunks_reconstruction)),\n",
    "           _ideal_chunks_reconstruction, linestyle='dotted', label=\"ideal\")\n",
    "pylab.xlabel(\"sample\")\n",
    "pylab.ylabel(\"amplitude\")\n",
    "pylab.title(\"reconstruction without overlapping\")\n",
    "pylab.legend(loc='upper right')\n",
    "pylab.savefig(\"without.svg\")\n",
    "pylab.show()"
   ]
  },
  {
   "cell_type": "markdown",
   "metadata": {},
   "source": [
    "Signal discontinuities usually happen between adjacent chunks :-/"
   ]
  },
  {
   "cell_type": "markdown",
   "metadata": {},
   "source": [
    "## Algorithm 1: Overlap the chunks and transmit overlapped areas\n",
    "\n",
    "* For each chunk:\n",
    "    * Build an extended chunk using neighbor samples.\n",
    "    * Transform the extended chunk.\n",
    "    * Quantize the extended decomposition.\n",
    "    * Dequantize the extended decomposition.\n",
    "    * Detransform the extended decomposition.\n",
    "    * Use only the non-overlaped samples of the reconstructed extended chunk.\n",
    "    \n",
    "```\n",
    "+------------+--------------+-------------+\n",
    "| left_chunk | center_chunk | right_chunk |\n",
    "+------------+--------------+-------------+\n",
    "           OO OOOOOOOOOOOOOO OO <--- extended center_chunk\n",
    "           ^^                ^^\n",
    "           ||                ||\n",
    "           ++----------------++----- overlaped samples (for center_chunk)\n",
    "```\n",
    "\n",
    "Notice that the extended decomposition (in general) is going to be longer than the non-extended one, and therefore, it  will need more bits to be represented. However, notice also that we are compressing the decomposition and therefore, the memory increment should be small. Anyway, to determine which stragegy is the best one, ask to the RD curves!"
   ]
  },
  {
   "cell_type": "markdown",
   "metadata": {},
   "source": [
    "### Creation of the extended chunk"
   ]
  },
  {
   "cell_type": "code",
   "execution_count": null,
   "metadata": {},
   "outputs": [],
   "source": [
    "last_samples_left_chunk = left_chunk[chunk_size - number_of_overlapped_samples :]\n",
    "first_samples_right_chunk = right_chunk[: number_of_overlapped_samples]\n",
    "extended_chunk = np.concatenate([last_samples_left_chunk, center_chunk, first_samples_right_chunk])\n",
    "print(\"number of samples overlapped with left_chunk =\", len(last_samples_left_chunk))\n",
    "print(\"number of samples in the center_chunk =\", len(center_chunk))\n",
    "print(\"number of samples overlapped with right_chunk =\", len(first_samples_right_chunk))\n",
    "print(\"length of the extended center_chunk =\", len(extended_chunk))\n",
    "pylab.plot(np.linspace(0,\n",
    "                       len(last_samples_left_chunk)-1,\n",
    "                       len(last_samples_left_chunk)),\n",
    "           last_samples_left_chunk)\n",
    "pylab.plot(np.linspace(len(last_samples_left_chunk),\n",
    "                       len(last_samples_left_chunk) + len(center_chunk) - 1,\n",
    "                       len(center_chunk)),\n",
    "           center_chunk)\n",
    "pylab.plot(np.linspace(len(last_samples_left_chunk) + len(center_chunk),\n",
    "                       len(last_samples_left_chunk) + len(center_chunk) + len(first_samples_right_chunk) - 1,\n",
    "                       len(first_samples_right_chunk)),\n",
    "           first_samples_right_chunk)\n",
    "pylab.xlabel(\"sample\")\n",
    "pylab.ylabel(\"amplitude\")\n",
    "pylab.title(\"the extended chunk\")\n",
    "pylab.savefig(\"extended.svg\")\n",
    "pylab.show()"
   ]
  },
  {
   "cell_type": "markdown",
   "metadata": {},
   "source": [
    "### Transform, quantize, dequantize and detransform the extended chunk"
   ]
  },
  {
   "cell_type": "code",
   "execution_count": null,
   "metadata": {},
   "outputs": [],
   "source": [
    "reconstructed_extended_chunk = reconstruct_chunk(extended_chunk)\n",
    "reconstructed_last_samples_left_chunk = reconstructed_extended_chunk[0:number_of_overlapped_samples]\n",
    "reconstructed_center_chunk = reconstructed_extended_chunk[number_of_overlapped_samples:chunk_size + number_of_overlapped_samples]\n",
    "reconstructed_first_samples_right_chunk = reconstructed_extended_chunk[chunk_size + number_of_overlapped_samples:]\n",
    "#ideal_reconstruction = ideal_chunks_reconstruction[\n",
    "#    chunk_size - number_of_overlapped_samples:\n",
    "#    2*chunk_size + number_of_overlapped_samples]\n",
    "\n",
    "pylab.plot(np.linspace(0,\n",
    "                       len(reconstructed_last_samples_left_chunk)-1,\n",
    "                       len(reconstructed_last_samples_left_chunk)),\n",
    "           reconstructed_last_samples_left_chunk)\n",
    "pylab.plot(np.linspace(len(reconstructed_last_samples_left_chunk),\n",
    "                       len(reconstructed_last_samples_left_chunk) + len(reconstructed_center_chunk) - 1,\n",
    "                       len(reconstructed_center_chunk)),\n",
    "           reconstructed_center_chunk, label=\"reconstruction\")\n",
    "pylab.plot(np.linspace(len(reconstructed_last_samples_left_chunk) + len(reconstructed_center_chunk),\n",
    "                       len(reconstructed_last_samples_left_chunk) + len(reconstructed_center_chunk) + len(reconstructed_first_samples_right_chunk) - 1,\n",
    "                       len(reconstructed_first_samples_right_chunk)),\n",
    "           reconstructed_first_samples_right_chunk)\n",
    "pylab.plot(np.linspace(0,\n",
    "                       len(_ideal_chunks_reconstruction)-1,\n",
    "                       len(_ideal_chunks_reconstruction)),\n",
    "           _ideal_chunks_reconstruction, linestyle='dotted', label=\"ideal\")\n",
    "pylab.xlabel(\"sample\")\n",
    "pylab.ylabel(\"amplitude\")\n",
    "pylab.title(\"reconstruction with overlapping\")\n",
    "#pylab.legend(loc='upper right')\n",
    "pylab.legend()\n",
    "pylab.savefig(\"reconstructed.svg\")\n",
    "pylab.show()"
   ]
  },
  {
   "cell_type": "markdown",
   "metadata": {},
   "source": [
    "Now, center_chunk is reconstructed without discontinuities :-)"
   ]
  },
  {
   "cell_type": "markdown",
   "metadata": {},
   "source": [
    "## Algorithm 2: Overlap the chunks but transmit only central coeffs"
   ]
  },
  {
   "cell_type": "code",
   "execution_count": null,
   "metadata": {
    "scrolled": true
   },
   "outputs": [],
   "source": [
    "quantized_subbands = transform_and_quantize(extended_chunk)\n",
    "foa = number_of_overlapped_samples#//2\n",
    "#_foa = foa\n",
    "_quantized_subbands = [None]*len(quantized_subbands)\n",
    "for i in range(len(quantized_subbands)-1, 0, -1):\n",
    "    foa >>= 1\n",
    "    _quantized_subbands[i] = quantized_subbands[i][foa:len(quantized_subbands[i])-foa].copy()\n",
    "    #print(len(_quantized_subbands[i]))\n",
    "    #print(i)\n",
    "_quantized_subbands[0] = quantized_subbands[0][foa:len(quantized_subbands[0])-foa].copy()\n",
    "print(len(_quantized_subbands[i]))\n",
    "\n",
    "reconstructed_center_chunk = dequantize_and_detransform(_quantized_subbands)#[_foa:-_foa]\n",
    "#reconstructed_chunk = dequantize_and_detransform(quantization_indexes)\n",
    "\n",
    "pylab.plot(np.linspace(0,\n",
    "                       len(reconstructed_last_samples_left_chunk)-1,\n",
    "                       len(reconstructed_last_samples_left_chunk)),\n",
    "           reconstructed_last_samples_left_chunk)\n",
    "pylab.plot(np.linspace(len(reconstructed_last_samples_left_chunk),\n",
    "                       len(reconstructed_last_samples_left_chunk) + len(reconstructed_center_chunk) - 1,\n",
    "                       len(reconstructed_center_chunk)),\n",
    "           reconstructed_center_chunk, label=\"center_chunk\")\n",
    "pylab.plot(np.linspace(len(reconstructed_last_samples_left_chunk) + len(reconstructed_center_chunk),\n",
    "                       len(reconstructed_last_samples_left_chunk) + len(reconstructed_center_chunk) + len(reconstructed_first_samples_right_chunk) - 1,\n",
    "                       len(reconstructed_first_samples_right_chunk)),\n",
    "           reconstructed_first_samples_right_chunk)\n",
    "pylab.plot(np.linspace(0,\n",
    "                       len(_ideal_chunks_reconstruction)-1,\n",
    "                       len(_ideal_chunks_reconstruction)),\n",
    "           _ideal_chunks_reconstruction, linestyle='dotted', label=\"ideal\")\n",
    "pylab.xlabel(\"sample\")\n",
    "pylab.ylabel(\"amplitude\")\n",
    "pylab.title(\"reconstructed extended chunk\")\n",
    "pylab.legend(loc='upper right')\n",
    "pylab.show()"
   ]
  },
  {
   "cell_type": "markdown",
   "metadata": {},
   "source": [
    "## Algorithm 3: Overlap right-shifted chunks"
   ]
  },
  {
   "cell_type": "code",
   "execution_count": null,
   "metadata": {},
   "outputs": [],
   "source": [
    "chunk_0 = np.concatenate([left_chunk[number_of_overlapped_samples:], center_chunk[:number_of_overlapped_samples]])\n",
    "chunk_0_quantized_subbands = transform_and_quantize(chunk_0)\n",
    "reconstructed_chunk_0 = dequantize_and_detransform(chunk_0_quantized_subbands)[]\n",
    "\n",
    "chunk_1 = np.concatenate([center_chunk[number_of_overlapped_samples:], right_chunk[:number_of_overlapped_samples]])\n",
    "chunk_1_quantized_subbands = transform_and_quantize(chunk_1)\n",
    "reconstructed_chunk_1 = dequantize_and_detransform(chunk_1_quantized_subbands)\n",
    "\n",
    "pylab.plot(np.linspace(0, len(chunk_0)-1, len(chunk_0)), reconstructed_chunk_0)\n",
    "pylab.plot(np.linspace(len(chunk_0), len(chunk_0)+len(chunk_1)-1, len(chunk_1)), reconstructed_chunk_1)\n",
    "pylab.plot(np.linspace(len(ideal_chunks_reconstruction), len(ideal_chunks_reconstruction)+len(ideal_chunks_reconstruction)-1, len(ideal_chunks_reconstruction)), ideal_chunks_reconstruction)\n",
    "pylab.show()"
   ]
  },
  {
   "cell_type": "markdown",
   "metadata": {},
   "source": [
    "## Transform using per, detransform using sym"
   ]
  },
  {
   "cell_type": "code",
   "execution_count": null,
   "metadata": {},
   "outputs": [],
   "source": [
    "def transform_and_quantize(chunk):\n",
    "    decomposition = pywt.wavedec(chunk, wavelet=wavelet, level=levels, mode=\"per\")\n",
    "    quantized_decomposition = []\n",
    "    for subband in decomposition:\n",
    "        quantized_subband = deadzone_quantizer(subband, quantization_step)\n",
    "        quantized_decomposition.append(quantized_subband)\n",
    "    return quantized_decomposition\n",
    "    \n",
    "def dequantize_and_detransform(decomposition):\n",
    "    dequantized_decomposition = []\n",
    "    for subband in decomposition:\n",
    "        dequantized_subband = deadzone_dequantizer(subband, quantization_step)\n",
    "        dequantized_decomposition.append(dequantized_subband)\n",
    "    chunk = pywt.waverec(dequantized_decomposition, wavelet=wavelet, mode=\"sym\")\n",
    "    return chunk\n",
    "\n",
    "def reconstruct_chunk(chunk):\n",
    "    quantization_indexes = transform_and_quantize(chunk)\n",
    "    \n",
    "    reconstructed_chunk = dequantize_and_detransform(quantization_indexes)\n",
    "    return reconstructed_chunk"
   ]
  },
  {
   "cell_type": "markdown",
   "metadata": {},
   "source": [
    "### Transform, quantize, dequantize and detransform the extended chunk"
   ]
  },
  {
   "cell_type": "code",
   "execution_count": null,
   "metadata": {},
   "outputs": [],
   "source": [
    "decomposition = pywt.wavedec(extended_chunk, wavelet=wavelet, level=levels, mode=\"per\")\n",
    "print(pywt.coeffs_to_array(decomposition))"
   ]
  },
  {
   "cell_type": "code",
   "execution_count": null,
   "metadata": {},
   "outputs": [],
   "source": [
    "decomposition = pywt.wavedec(center_chunk, wavelet=wavelet, level=levels, mode=\"sym\")\n",
    "print(pywt.coeffs_to_array(decomposition))"
   ]
  },
  {
   "cell_type": "code",
   "execution_count": null,
   "metadata": {},
   "outputs": [],
   "source": [
    "reconstructed_extended_chunk = reconstruct_chunk(extended_chunk)\n",
    "reconstructed_last_samples_left_chunk = reconstructed_extended_chunk[0:number_of_overlapped_samples]\n",
    "reconstructed_center_chunk = reconstructed_extended_chunk[number_of_overlapped_samples:chunk_size + number_of_overlapped_samples]\n",
    "reconstructed_first_samples_right_chunk = reconstructed_extended_chunk[chunk_size + number_of_overlapped_samples:]\n",
    "ideal_reconstruction = ideal_chunks_reconstruction[\n",
    "    chunk_size - number_of_overlapped_samples:\n",
    "    2*chunk_size + number_of_overlapped_samples]\n",
    "\n",
    "pylab.plot(np.linspace(0,\n",
    "                       len(reconstructed_last_samples_left_chunk)-1,\n",
    "                       len(reconstructed_last_samples_left_chunk)),\n",
    "           reconstructed_last_samples_left_chunk)\n",
    "pylab.plot(np.linspace(len(reconstructed_last_samples_left_chunk),\n",
    "                       len(reconstructed_last_samples_left_chunk) + len(reconstructed_center_chunk) - 1,\n",
    "                       len(reconstructed_center_chunk)),\n",
    "           reconstructed_center_chunk, label=\"center_chunk\")\n",
    "pylab.plot(np.linspace(len(reconstructed_last_samples_left_chunk) + len(reconstructed_center_chunk),\n",
    "                       len(reconstructed_last_samples_left_chunk) + len(reconstructed_center_chunk) + len(reconstructed_first_samples_right_chunk) - 1,\n",
    "                       len(reconstructed_first_samples_right_chunk)),\n",
    "           reconstructed_first_samples_right_chunk)\n",
    "pylab.plot(np.linspace(0,\n",
    "                       len(ideal_reconstruction)-1,\n",
    "                       len(ideal_reconstruction)),\n",
    "           ideal_reconstruction, linestyle='dotted', label=\"ideal\")\n",
    "pylab.xlabel(\"sample\")\n",
    "pylab.ylabel(\"amplitude\")\n",
    "pylab.title(\"reconstructed extended chunk\")\n",
    "#pylab.legend(loc='upper right')\n",
    "pylab.legend()\n",
    "#pylab.savefig(\"reconstructed.svg\")\n",
    "pylab.show()"
   ]
  },
  {
   "cell_type": "code",
   "execution_count": null,
   "metadata": {},
   "outputs": [],
   "source": []
  },
  {
   "cell_type": "code",
   "execution_count": null,
   "metadata": {},
   "outputs": [],
   "source": []
  }
 ],
 "metadata": {
  "kernelspec": {
   "display_name": "Python 3",
   "language": "python",
   "name": "python3"
  },
  "language_info": {
   "codemirror_mode": {
    "name": "ipython",
    "version": 3
   },
   "file_extension": ".py",
   "mimetype": "text/x-python",
   "name": "python",
   "nbconvert_exporter": "python",
   "pygments_lexer": "ipython3",
   "version": "3.9.6"
  }
 },
 "nbformat": 4,
 "nbformat_minor": 4
}
