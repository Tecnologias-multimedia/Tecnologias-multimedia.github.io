{
 "cells": [
  {
   "cell_type": "markdown",
   "metadata": {},
   "source": [
    "# A [RD](https://en.wikipedia.org/wiki/Rate%E2%80%93distortion_theory)-comparison of \"Stereo\" Transforms\n",
    "\n",
    "Note: some results provided by this notebook are only generated if the audio signal is stereo. This notebook should be run locally (do not run it in Google Colab, for example)."
   ]
  },
  {
   "cell_type": "code",
   "execution_count": null,
   "metadata": {},
   "outputs": [],
   "source": [
    "import sounddevice as sd\n",
    "import pywt # pip install pywavelets\n",
    "import math\n",
    "import numpy as np\n",
    "%matplotlib inline\n",
    "import matplotlib\n",
    "import matplotlib.pyplot as plt\n",
    "from scipy import signal\n",
    "import zlib\n",
    "import pylab"
   ]
  },
  {
   "cell_type": "code",
   "execution_count": null,
   "metadata": {},
   "outputs": [],
   "source": [
    "def plot(y, xlabel='', ylabel='', title=''):\n",
    "    fig = plt.figure()\n",
    "    ax = fig.add_subplot(111)\n",
    "    ax.set_title(title)\n",
    "    ax.grid()\n",
    "    ax.xaxis.set_label_text(xlabel)\n",
    "    ax.yaxis.set_label_text(ylabel)\n",
    "    x = np.linspace(0, len(y)-1, len(y))\n",
    "    ax.plot(x, y, '.', markersize=1)\n",
    "    plt.show(block=False)"
   ]
  },
  {
   "cell_type": "markdown",
   "metadata": {},
   "source": [
    "## Produce some sound ... for example, speak for 5 seconds\n",
    "The audio signal will be used to compare the RD performance of the transforms."
   ]
  },
  {
   "cell_type": "code",
   "execution_count": null,
   "metadata": {},
   "outputs": [],
   "source": [
    "fs = 44100      # Sampling frequency\n",
    "duration = 5.0  # seconds\n",
    "x = sd.rec(int(duration * fs), samplerate=fs, channels=2, dtype=np.int16)\n",
    "print(\"Say something!\")\n",
    "while sd.wait():\n",
    "    pass\n",
    "print(\"done\")"
   ]
  },
  {
   "cell_type": "markdown",
   "metadata": {},
   "source": [
    "## This is your audio"
   ]
  },
  {
   "cell_type": "code",
   "execution_count": null,
   "metadata": {
    "scrolled": true
   },
   "outputs": [],
   "source": [
    "sd.play(x)\n",
    "plot(x, \"Sample\", \"Amplitude\", \"Audio Signal\")"
   ]
  },
  {
   "cell_type": "markdown",
   "metadata": {},
   "source": [
    "## Let's remove some samples from the begining"
   ]
  },
  {
   "cell_type": "code",
   "execution_count": null,
   "metadata": {},
   "outputs": [],
   "source": [
    "x = x[50000:]"
   ]
  },
  {
   "cell_type": "markdown",
   "metadata": {},
   "source": [
    "## This is your definitive audio sequence"
   ]
  },
  {
   "cell_type": "code",
   "execution_count": null,
   "metadata": {
    "scrolled": true
   },
   "outputs": [],
   "source": [
    "sd.play(x)\n",
    "plot(x, \"Sample\", \"Amplitude\", \"Audio Signal\")"
   ]
  },
  {
   "cell_type": "markdown",
   "metadata": {},
   "source": [
    "## Let's zoom the signal"
   ]
  },
  {
   "cell_type": "code",
   "execution_count": null,
   "metadata": {},
   "outputs": [],
   "source": [
    "chunk = x[101000:102000]\n",
    "plot(chunk, \"Sample\", \"Amplitude\", \"Audio Signal (zoom)\")"
   ]
  },
  {
   "cell_type": "markdown",
   "metadata": {},
   "source": [
    "## Listen to the channel 0"
   ]
  },
  {
   "cell_type": "code",
   "execution_count": null,
   "metadata": {
    "scrolled": false
   },
   "outputs": [],
   "source": [
    "channel_0 = x[:, 0]\n",
    "sd.play(channel_0)\n",
    "plot(channel_0, \"Sample\", \"Amplitude\", \"Channel 0\")"
   ]
  },
  {
   "cell_type": "markdown",
   "metadata": {},
   "source": [
    "## Listen to the channel 1"
   ]
  },
  {
   "cell_type": "code",
   "execution_count": null,
   "metadata": {},
   "outputs": [],
   "source": [
    "channel_1 = x[:, 1]\n",
    "sd.play(channel_1)\n",
    "plot(channel_1, \"Sample\", \"Amplitude\", \"Channel 1\")"
   ]
  },
  {
   "cell_type": "markdown",
   "metadata": {},
   "source": [
    "## Differences between the channels"
   ]
  },
  {
   "cell_type": "code",
   "execution_count": null,
   "metadata": {},
   "outputs": [],
   "source": [
    "differences = channel_0 - channel_1"
   ]
  },
  {
   "cell_type": "code",
   "execution_count": null,
   "metadata": {},
   "outputs": [],
   "source": [
    "sd.play(differences)\n",
    "plot(differences, \"Sample\", \"Amplitude\", \"Channel 0 - Channel 1\")"
   ]
  },
  {
   "cell_type": "markdown",
   "metadata": {},
   "source": [
    "## Is the \"transform\" reversible?"
   ]
  },
  {
   "cell_type": "code",
   "execution_count": null,
   "metadata": {},
   "outputs": [],
   "source": [
    "channel_1 = channel_0 - differences"
   ]
  },
  {
   "cell_type": "code",
   "execution_count": null,
   "metadata": {},
   "outputs": [],
   "source": [
    "recons_channel_1 = x[:, 1]\n",
    "sd.play(recons_channel_1)\n",
    "plot(recons_channel_1, \"Sample\", \"Amplitude\", \"Reconstructed Channel 1\")"
   ]
  },
  {
   "cell_type": "code",
   "execution_count": null,
   "metadata": {},
   "outputs": [],
   "source": [
    "channel_1.all() == recons_channel_1.all()"
   ]
  },
  {
   "cell_type": "markdown",
   "metadata": {},
   "source": [
    "Yes!"
   ]
  },
  {
   "cell_type": "markdown",
   "metadata": {},
   "source": [
    "## Some RD stuff"
   ]
  },
  {
   "cell_type": "code",
   "execution_count": null,
   "metadata": {},
   "outputs": [],
   "source": [
    "def average_energy(x):\n",
    "    #return np.sum(x[:, 0].astype(np.double)*x[:, 0].astype(np.double))/len(x[:, 0]) + \\\n",
    "    #       np.sum(x[:, 1].astype(np.double)*x[:, 1].astype(np.double))/len(x[:, 1])\n",
    "    return np.sum(x.astype(np.double)*x.astype(np.double))/len(x)\n",
    "    \n",
    "def RMSE(x, y):\n",
    "    error_signal = x - y\n",
    "    return math.sqrt(average_energy(error_signal))\n",
    "\n",
    "# Based on https://stackoverflow.com/questions/15450192/fastest-way-to-compute-entropy-in-python\n",
    "def entropy_in_bits_per_symbol(sequence_of_symbols):\n",
    "    value, counts = np.unique(sequence_of_symbols, return_counts = True)\n",
    "    probs = counts / len(sequence_of_symbols)\n",
    "    n_classes = np.count_nonzero(probs)\n",
    "\n",
    "    if n_classes <= 1:\n",
    "        return 0\n",
    "\n",
    "    entropy = 0.\n",
    "    for i in probs:\n",
    "        entropy -= i * math.log(i, 2)\n",
    "\n",
    "    return entropy\n",
    "\n",
    "def deadzone_quantizer(x, quantization_step):\n",
    "    k = (x / quantization_step).astype(np.int32)\n",
    "    return k\n",
    "\n",
    "def deadzone_dequantizer(k, quantization_step):\n",
    "    y = quantization_step * k\n",
    "    return y\n",
    "\n",
    "def deadzone_qdeq(x, quantization_step):\n",
    "    k = deadzone_quantizer(x, quantization_step)\n",
    "    y = deadzone_dequantizer(k, quantization_step)\n",
    "    return k, y\n",
    "\n",
    "def RD_curve(data, analyze, synthesize):\n",
    "    RD_points = []\n",
    "    for q_step in range(16, 1024, 32):\n",
    "        analyzed_data = analyze(data)\n",
    "        k, y = deadzone_qdeq(analyzed_data, q_step)\n",
    "        rate = entropy_in_bits_per_symbol(k[:, 0]) + entropy_in_bits_per_symbol(k[:, 1])\n",
    "        reconstructed_data = synthesize(y)\n",
    "        distortion = RMSE(data, reconstructed_data)\n",
    "        RD_points.append((rate, distortion))\n",
    "    return RD_points"
   ]
  },
  {
   "cell_type": "markdown",
   "metadata": {},
   "source": [
    "## [Karhunen-Loéve Transform (KLT)](https://en.wikipedia.org/wiki/Karhunen%E2%80%93Lo%C3%A8ve_theorem), [Hadamard](https://en.wikipedia.org/wiki/Hadamard_transform) and [Haar](https://en.wikipedia.org/wiki/Haar_wavelet#Haar_matrix)\n",
    "\n",
    "The rows (i.e., the [basis](https://en.wikipedia.org/wiki/Basis_(linear_algebra)) vectors) of the of the [discrete](https://en.wikipedia.org/wiki/Discrete_transform) (all transforms discussed in this document are discrete) KLT consist of the [eigenvectors](https://en.wikipedia.org/wiki/Eigenvalues_and_eigenvectors#:~:text=In%20linear%20algebra%2C%20an%20eigenvector,which%20the%20eigenvector%20is%20scaled.) of the [autorrelation matrix](https://en.wikipedia.org/wiki/Autocorrelation#Auto-correlation_of_random_vectors) (also known as the [covariance](https://en.wikipedia.org/wiki/Covariance) matrix) of the transformed signal. In block-based [transform coding](https://web.stanford.edu/class/ee368b/Handouts/11-TransformCoding.pdf) (such as it happens in InterCom in which the audio signal is splitted into frames and chunks) it can be assumed that, on average, the amount of information provided by a subband (the set of coefficients that correspond to a given frequency) is proportional to the variance in this subband, computed over the coefficients of the subband for different blocks.\n",
    "\n",
    "The KLT minimizes the [geometric mean](https://en.wikipedia.org/wiki/Geometric_mean) of the variance of the transform coefficients. Hence, the KLT provides optimum energy concentration and therefore, the largest [Transform Coding Gain (TCG)](http://ws2.binghamton.edu/fowler/fowler%20personal%20page/EE523_files/Ch_13_3%20Transform%20Coding%20-%20Coding%20Gain%20&%20Classic%20Transforms%20(PPT).pdf) of any linear transform coding method. Unfortunately, the autocorrelation matrix depends on the input signal and therefore, the [change of basis](https://en.wikipedia.org/wiki/Change_of_basis) (the transform) provided by the KLT is signal dependent (each signal needs to be transformed by a different transform matrix), except in the case of 2-samples transform coding.\n",
    "\n",
    "## TGC\n",
    "The TCG is defined as the ratio of the arithmetic mean of the variances of the coefficients to their geometric means:\n",
    "\n",
    "\\begin{equation}\n",
    "G_{TC} = \\frac{\\frac{1}{N}\\sum_{i=1}^N{\\sigma_i^2}}{(\\prod_{i=1}^N\\sigma_i^2)^{\\frac{1}{N}}}\n",
    "\\end{equation}\n",
    "\n",
    "In the context of signal compression, variance, energy, entropy and information are synonymous."
   ]
  },
  {
   "cell_type": "code",
   "execution_count": null,
   "metadata": {},
   "outputs": [],
   "source": [
    "def TCG(variances):\n",
    "    N = len(variances)\n",
    "    arithmetic_mean = np.sum(variances)/N\n",
    "    geometric_mean = np.prod(variances)**(1/N)\n",
    "    if geometric_mean == 0:\n",
    "        geometric_mean = 1\n",
    "    transform_coding_gain = arithmetic_mean/geometric_mean\n",
    "    return transform_coding_gain"
   ]
  },
  {
   "cell_type": "code",
   "execution_count": null,
   "metadata": {},
   "outputs": [],
   "source": [
    "# KLT analysis transform:\n",
    "#\n",
    "#  [w[0]] = 1/sqrt(2) [1  1] [x[0]]\n",
    "#  [w[1]]             [1 -1] [x[1]]\n",
    "\n",
    "def KLT_analyze(x):\n",
    "    w = np.empty_like(x, dtype=np.int32)\n",
    "    w[:, 0] = np.rint((x[:, 0].astype(np.int32) + x[:, 1]) / math.sqrt(2)) # L\n",
    "    w[:, 1] = np.rint((x[:, 0].astype(np.int32) - x[:, 1]) / math.sqrt(2)) # H\n",
    "    return w\n",
    "\n",
    "# Synthesis transform:\n",
    "#\n",
    "#  [x[0]] = 1/sqrt(2) [1  1] [w[0]]\n",
    "#  [x[1]]             [1 -1] [w[1]]\n",
    "\n",
    "def KLT_synthesize(w):\n",
    "    x = np.empty_like(w, dtype=np.int16)\n",
    "    #x[:, 0] = np.rint((w[:, 0] + w[:, 1]) / math.sqrt(2)) # L(ow frequency subband)\n",
    "    #x[:, 1] = np.rint((w[:, 0] - w[:, 1]) / math.sqrt(2)) # H(igh frequency subband)\n",
    "    x[:, :] = KLT_analyze(w)\n",
    "    return x"
   ]
  },
  {
   "cell_type": "markdown",
   "metadata": {},
   "source": [
    "## Let's see the KLT subbands"
   ]
  },
  {
   "cell_type": "code",
   "execution_count": null,
   "metadata": {},
   "outputs": [],
   "source": [
    "w = KLT_analyze(x)"
   ]
  },
  {
   "cell_type": "markdown",
   "metadata": {},
   "source": [
    "## First subband (low frequencies)"
   ]
  },
  {
   "cell_type": "code",
   "execution_count": null,
   "metadata": {},
   "outputs": [],
   "source": [
    "plot(w[:, 0], \"Sample\", \"Amplitude\", \"Low-freq Subband \")\n",
    "sd.play(w[:, 0].astype(np.int16))"
   ]
  },
  {
   "cell_type": "markdown",
   "metadata": {},
   "source": [
    "## Second subband (high frequencies)"
   ]
  },
  {
   "cell_type": "code",
   "execution_count": null,
   "metadata": {},
   "outputs": [],
   "source": [
    "plot(w[:, 1], \"Sample\", \"Amplitude\", \"High-freq subband\")\n",
    "sd.play(w[:, 1].astype(np.int16))"
   ]
  },
  {
   "cell_type": "markdown",
   "metadata": {},
   "source": [
    "If you can listen to the low frequencies, this a consequence of the bad slope of the cut-off frequency in the high-frequency filter."
   ]
  },
  {
   "cell_type": "markdown",
   "metadata": {},
   "source": [
    "## Frequency vs time in the original signal"
   ]
  },
  {
   "cell_type": "code",
   "execution_count": null,
   "metadata": {
    "scrolled": true
   },
   "outputs": [],
   "source": [
    "plt.subplot(211)\n",
    "plt.title('Spectrogram of the original signal')\n",
    "plt.specgram(x[:, 0], Fs=44100)\n",
    "plt.xlabel('Time')\n",
    "plt.ylabel('Frequency (Hz)')\n",
    "plt.subplot(212)\n",
    "plt.specgram(x[:, 1], Fs=44100)\n",
    "plt.xlabel('Time')\n",
    "plt.ylabel('Frequency (Hz)')\n",
    "plt.show()"
   ]
  },
  {
   "cell_type": "markdown",
   "metadata": {},
   "source": [
    "## Frequency vs time in the transformed signal"
   ]
  },
  {
   "cell_type": "code",
   "execution_count": null,
   "metadata": {},
   "outputs": [],
   "source": [
    "plt.subplot(211)\n",
    "plt.title('Spectrogram of the transformed signal (low frequencies / high frequencies)')\n",
    "plt.specgram(w[:, 0], Fs=44100)\n",
    "plt.xlabel('Time (segs)')\n",
    "plt.ylabel('Frequency (Hz)')\n",
    "plt.subplot(212)\n",
    "plt.specgram(w[:, 1], Fs=44100)\n",
    "plt.xlabel('Time (segs)')\n",
    "plt.ylabel('Frequency (Hz)')\n",
    "plt.show()"
   ]
  },
  {
   "cell_type": "markdown",
   "metadata": {},
   "source": [
    "You should see more energy of higher frequency in the high-frequency subband, and viceversa."
   ]
  },
  {
   "cell_type": "markdown",
   "metadata": {},
   "source": [
    "## [Filter's response in the frequency domain](https://en.wikipedia.org/wiki/Filter_(signal_processing)#The_transfer_function)"
   ]
  },
  {
   "cell_type": "code",
   "execution_count": null,
   "metadata": {},
   "outputs": [],
   "source": [
    "sqrt2 = math.sqrt(2)\n",
    "K1 = np.array([sqrt2, sqrt2])\n",
    "w1, h1 = signal.freqz(K1, fs=44100)\n",
    "K2 = np.array([sqrt2, -sqrt2])\n",
    "w2, h2 = signal.freqz(K2, fs=44100)\n",
    "\n",
    "plt.subplot(211)\n",
    "plt.title('KLT (analysis and synthesis) filters transfer functions (low/high pass)')\n",
    "plt.plot(w1, 20 * np.log10(abs(h1)), 'b')\n",
    "plt.xlabel('Frequency (Hz)')\n",
    "plt.ylabel('Amplitude [dB]')\n",
    "plt.subplot(212)\n",
    "plt.plot(w2, 20 * np.log10(abs(h2)), 'b')\n",
    "plt.xlabel('Frequency (Hz)')\n",
    "plt.ylabel('Amplitude [dB]')\n",
    "plt.show()"
   ]
  },
  {
   "cell_type": "markdown",
   "metadata": {},
   "source": [
    "Notice that the [transition band](https://en.wikipedia.org/wiki/Transition_band) of these filters is very vage, in the sense that the transition between the pass band and the stop band is very wide (the transition band is very large). This implies that these filters are quite uneffective. However, this is the maximum performance that we can get using only two coeffients (or taps)/filter (remember that the KLT is an optimal transform, but obviosly, the spectral separation depends on the number of filters and their length).\n",
    "\n",
    "Notice also that these filters are [Quadrature Mirror Filters (QMF)](https://en.wikipedia.org/wiki/Quadrature_mirror_filter). Thanks to this, even when there is a high degree of aliasing between the filters, the perfect reconstruction is possible."
   ]
  },
  {
   "cell_type": "markdown",
   "metadata": {},
   "source": [
    "## [Mid/Side Transform (MST)](https://en.wikipedia.org/wiki/Joint_encoding#M/S_stereo_coding)\n",
    "\n",
    "MST represents the left and right channels as a *mid* subband (also sometimes called again channel) and a *side* subband. The mid subband is the sum of the left and right channels ($M=L+R$). The side subband is the difference of the left and right channels ($S=L-R$). See also Section 2.2.1. *Sum-Difference coding* at this [PhD thesis](https://research.tue.nl/en/studentTheses/stereo-coding-by-two-channel-linear-prediction-and-rotation)."
   ]
  },
  {
   "cell_type": "code",
   "execution_count": null,
   "metadata": {},
   "outputs": [],
   "source": [
    "# Analysis transform:\n",
    "#\n",
    "#  [w[0]] = [1  1] [x[0]]\n",
    "#  [w[1]]   [1 -1] [x[1]]\n",
    "\n",
    "def MST_analyze(x):\n",
    "    w = np.empty_like(x, dtype=np.int32)\n",
    "    w[:, 0] = x[:, 0].astype(np.int32) + x[:, 1] # L(ow frequency subband)\n",
    "    w[:, 1] = x[:, 0].astype(np.int32) - x[:, 1] # H(igh frequency subband)\n",
    "    return w\n",
    "\n",
    "# Inverse transform:\n",
    "#\n",
    "#  [x[0]] = 1/2 [1  1] [w[0]]\n",
    "#  [x[1]]       [1 -1] [w[1]]\n",
    "\n",
    "def MST_synthesize(w):\n",
    "    x = np.empty_like(w, dtype=np.int16)\n",
    "    x[:, 0] = (w[:, 0] + w[:, 1])/2 # L(ow frequency subband)\n",
    "    x[:, 1] = (w[:, 0] - w[:, 1])/2 # H(igh frequency subband)\n",
    "    return x\n",
    "\n",
    "# This solution is slower than the previous one because: (1) an array of int32 is allocated,\n",
    "# and (2) the memory locality is smaller (the division by 2 is not performed just when\n",
    "# the samples are accesed).\n",
    "def _MST_synthesize(w):\n",
    "    x = np.empty_like(w, dtype=np.int16)\n",
    "    x[:, :] = MST_analyze(w)\n",
    "    x = x / 2\n",
    "    return x"
   ]
  },
  {
   "cell_type": "markdown",
   "metadata": {},
   "source": [
    "## MST subbands"
   ]
  },
  {
   "cell_type": "code",
   "execution_count": null,
   "metadata": {},
   "outputs": [],
   "source": [
    "w = MST_analyze(x)"
   ]
  },
  {
   "cell_type": "markdown",
   "metadata": {},
   "source": [
    "## Mid subband (low frequencies)"
   ]
  },
  {
   "cell_type": "code",
   "execution_count": null,
   "metadata": {},
   "outputs": [],
   "source": [
    "plot(w[:, 0], \"Sample\", \"Amplitude\", \"Mid Subband\")\n",
    "sd.play(w[:, 0].astype(np.int16))"
   ]
  },
  {
   "cell_type": "markdown",
   "metadata": {},
   "source": [
    "## Side subband (high frequencies)"
   ]
  },
  {
   "cell_type": "code",
   "execution_count": null,
   "metadata": {},
   "outputs": [],
   "source": [
    "plot(w[:, 1], \"Sample\", \"Amplitude\", \"Side Subband\")\n",
    "sd.play(w[:, 1].astype(np.int16))"
   ]
  },
  {
   "cell_type": "markdown",
   "metadata": {},
   "source": [
    "## Frequency vs time in the original signal"
   ]
  },
  {
   "cell_type": "code",
   "execution_count": null,
   "metadata": {
    "scrolled": true
   },
   "outputs": [],
   "source": [
    "plt.subplot(211)\n",
    "plt.title('Spectrogram of the original signal')\n",
    "plt.specgram(x[:, 0], Fs=44100)\n",
    "plt.xlabel('Time (segs)')\n",
    "plt.ylabel('Frequency (Hz)')\n",
    "plt.subplot(212)\n",
    "plt.specgram(x[:, 1],Fs=44100)\n",
    "plt.xlabel('Time (segs)')\n",
    "plt.ylabel('Frequency (Hz)')\n",
    "plt.show()"
   ]
  },
  {
   "cell_type": "markdown",
   "metadata": {},
   "source": [
    "## Frequency vs time in the transformed signal"
   ]
  },
  {
   "cell_type": "code",
   "execution_count": null,
   "metadata": {},
   "outputs": [],
   "source": [
    "plt.subplot(211)\n",
    "plt.title('Spectrogram of the transformed signal (Mid/side)')\n",
    "plt.specgram(w[:, 0], Fs=44100)\n",
    "plt.xlabel('Time (segs)')\n",
    "plt.ylabel('Frequency (Hz)')\n",
    "plt.subplot(212)\n",
    "plt.specgram(w[:, 1], Fs=44100)\n",
    "plt.xlabel('Time (segs)')\n",
    "plt.ylabel('Frequency (Hz)')\n",
    "plt.show()"
   ]
  },
  {
   "cell_type": "markdown",
   "metadata": {},
   "source": [
    "## Filter's response in the frequency domain"
   ]
  },
  {
   "cell_type": "code",
   "execution_count": null,
   "metadata": {},
   "outputs": [],
   "source": [
    "K1 = np.array([1.0, 1.0])\n",
    "w1, h1 = signal.freqz(K1, fs=44100)\n",
    "K2 = np.array([1.0, -1.0])\n",
    "w2, h2 = signal.freqz(K2, fs=44100)\n",
    "\n",
    "plt.subplot(211)\n",
    "plt.title('Mid/Side analysis filters transfer functions')\n",
    "plt.plot(w1, 20 * np.log10(abs(h1)), 'b')\n",
    "plt.xlabel('Frequency (Hz)')\n",
    "plt.ylabel('Amplitude [dB]')\n",
    "plt.subplot(212)\n",
    "plt.plot(w2, 20 * np.log10(abs(h2)), 'b')\n",
    "plt.xlabel('Frequency (Hz)')\n",
    "plt.ylabel('Amplitude [dB]')\n",
    "plt.show()"
   ]
  },
  {
   "cell_type": "markdown",
   "metadata": {},
   "source": [
    "The frequency response of the MST filters is identical to the freq. response of the 2x2 KLT."
   ]
  },
  {
   "cell_type": "markdown",
   "metadata": {},
   "source": [
    "## MST vs KLT from a RD perspective"
   ]
  },
  {
   "cell_type": "code",
   "execution_count": null,
   "metadata": {},
   "outputs": [],
   "source": [
    "MST_RD_points = RD_curve(x, MST_analyze, MST_synthesize)"
   ]
  },
  {
   "cell_type": "code",
   "execution_count": null,
   "metadata": {},
   "outputs": [],
   "source": [
    "KLT_RD_points = RD_curve(x, KLT_analyze, KLT_synthesize)"
   ]
  },
  {
   "cell_type": "code",
   "execution_count": null,
   "metadata": {},
   "outputs": [],
   "source": [
    "plt.title(\"RD Tradeoff\")\n",
    "plt.xlabel(\"Bits per Sample\")\n",
    "plt.ylabel(\"RMSE\")\n",
    "#plt.xscale(\"log\")\n",
    "#plt.yscale(\"log\")\n",
    "plt.scatter(*zip(*MST_RD_points), c='b', marker=\"+\", label='MST')\n",
    "plt.scatter(*zip(*KLT_RD_points), c='r', marker=\"x\", label='KLT')\n",
    "plt.legend(loc='upper right')\n",
    "plt.show()"
   ]
  },
  {
   "cell_type": "markdown",
   "metadata": {},
   "source": [
    "## Timmings"
   ]
  },
  {
   "cell_type": "code",
   "execution_count": null,
   "metadata": {},
   "outputs": [],
   "source": [
    "%timeit MST_synthesize(MST_analyze(x))"
   ]
  },
  {
   "cell_type": "code",
   "execution_count": null,
   "metadata": {},
   "outputs": [],
   "source": [
    "%timeit KLT_synthesize(KLT_analyze(x))"
   ]
  },
  {
   "cell_type": "markdown",
   "metadata": {},
   "source": [
    "## RD conclusions"
   ]
  },
  {
   "cell_type": "markdown",
   "metadata": {},
   "source": [
    "MST and KLT are equivalent from a R/D perspective. However, MST is faster."
   ]
  },
  {
   "cell_type": "markdown",
   "metadata": {},
   "source": [
    "## Let's see the TGC"
   ]
  },
  {
   "cell_type": "code",
   "execution_count": null,
   "metadata": {},
   "outputs": [],
   "source": [
    "LH = MST_analyze(x)\n",
    "L = LH[:, 0]\n",
    "H = LH[:, 1]\n",
    "variances = [None]*2\n",
    "variances[0] = np.var(L)\n",
    "variances[1] = np.var(H)\n",
    "print(TCG(variances))"
   ]
  },
  {
   "cell_type": "code",
   "execution_count": null,
   "metadata": {},
   "outputs": [],
   "source": [
    "LH = KLT_analyze(x)\n",
    "L = LH[:, 0]\n",
    "H = LH[:, 1]\n",
    "variances = [None]*2\n",
    "variances[0] = np.var(L)\n",
    "variances[1] = np.var(H)\n",
    "print(TCG(variances))"
   ]
  },
  {
   "cell_type": "markdown",
   "metadata": {},
   "source": [
    "The TCG of the KLT used to be sliiiightly better than the TCG of the MSC."
   ]
  },
  {
   "cell_type": "markdown",
   "metadata": {},
   "source": [
    "## S Transform (ST)\n",
    "Another transform, only for the sake of curiosity."
   ]
  },
  {
   "cell_type": "code",
   "execution_count": null,
   "metadata": {},
   "outputs": [],
   "source": [
    "# https://www.researchgate.net/profile/Amir_Said2/publication/2598141_Reversible_Image_Compression_Via_Multiresolution_Representation_and_Predictive_Coding/links/56952cf008ae820ff074a536/Reversible-Image-Compression-Via-Multiresolution-Representation-and-Predictive-Coding.pdf\n",
    "#\n",
    "# Forward transform:\n",
    "#\n",
    "#  w[0] = ceil((x[0] + x[1])/2)\n",
    "#  w[1] = x[0] - x[1] \n",
    "#\n",
    "# Inverse transform:\n",
    "#\n",
    "#  x[0] = w[0] + ceil((w[1]+1)/2)\n",
    "#  x[1] = x[0] - w[1]\n",
    "\n",
    "def ST_analyze(x):\n",
    "    w = np.empty_like(x, dtype=np.int32)\n",
    "    w[:, 0] = np.ceil((x[:, 0].astype(np.int32) + x[:, 1])/2)\n",
    "    w[:, 1] = x[:, 0].astype(np.int32) - x[:, 1]\n",
    "    return w\n",
    "\n",
    "def ST_synthesize(w):\n",
    "    x = np.empty_like(w, dtype=np.int16)\n",
    "    x[:, 0] = w[:, 0] + np.ceil((w[:, 1] + 1)/2)\n",
    "    x[:, 1] = x[:, 0] - w[:, 1]\n",
    "    return x"
   ]
  },
  {
   "cell_type": "markdown",
   "metadata": {},
   "source": [
    "## ST vs MST"
   ]
  },
  {
   "cell_type": "code",
   "execution_count": null,
   "metadata": {},
   "outputs": [],
   "source": [
    "ST_RD_points = RD_curve(x, ST_analyze, ST_synthesize)"
   ]
  },
  {
   "cell_type": "code",
   "execution_count": null,
   "metadata": {},
   "outputs": [],
   "source": [
    "plt.title(\"R/D comparative\")\n",
    "plt.xlabel(\"Bits per sample\")\n",
    "plt.ylabel(\"RMSE\")\n",
    "#plt.xscale(\"log\")\n",
    "#plt.yscale(\"log\")\n",
    "plt.scatter(*zip(*MST_RD_points), c='b', marker=\"+\", label='MST')\n",
    "plt.scatter(*zip(*ST_RD_points), c='r', marker=\"x\", label='ST')\n",
    "plt.legend(loc='upper right')\n",
    "plt.show()"
   ]
  },
  {
   "cell_type": "markdown",
   "metadata": {},
   "source": [
    "MST performs slighly better than ST. This difference probably responds to numeric truncation issues during the transform computation."
   ]
  },
  {
   "cell_type": "markdown",
   "metadata": {},
   "source": [
    "## Let's see the RD curve using DEFLATE ...\n",
    "... instead of the entropy."
   ]
  },
  {
   "cell_type": "code",
   "execution_count": null,
   "metadata": {},
   "outputs": [],
   "source": [
    "def chunk_stereo_DEFLATE_RD_curve(chunk, analyze, synthesize):\n",
    "    '''RD curve of the chunk.'''\n",
    "    RD_points = []\n",
    "    for q_step in range(16, 1024, 32):\n",
    "        analyzed_chunk = analyze(chunk)\n",
    "        k, y = deadzone_qdeq(analyzed_chunk, q_step)\n",
    "        subband_0 = k[:, 0].copy()\n",
    "        subband_1 = k[:, 1].copy()\n",
    "        rate = len(zlib.compress(subband_0)) + len(zlib.compress(subband_1))\n",
    "        #rate = entropy_in_bits_per_symbol(k[:, 0]) + entropy_in_bits_per_symbol(k[:, 1])\n",
    "        reconstructed_chunk = synthesize(y)\n",
    "        distortion = RMSE(chunk, reconstructed_chunk)\n",
    "        RD_points.append((rate, distortion))\n",
    "    return RD_points"
   ]
  },
  {
   "cell_type": "code",
   "execution_count": null,
   "metadata": {},
   "outputs": [],
   "source": [
    "MST_RD_points = chunk_stereo_DEFLATE_RD_curve(x, MST_analyze, MST_synthesize)"
   ]
  },
  {
   "cell_type": "code",
   "execution_count": null,
   "metadata": {
    "scrolled": true
   },
   "outputs": [],
   "source": [
    "plt.title(\"RD comparative\")\n",
    "plt.xlabel(\"Bytes\")\n",
    "plt.ylabel(\"RMSE\")\n",
    "#plt.xscale(\"log\")\n",
    "#plt.yscale(\"log\")\n",
    "plt.scatter(*zip(*MST_RD_points), c='b', marker=\"+\", label='MSC')\n",
    "#plt.scatter(*zip(*KLT_RD_points), c='r', marker=\"x\", label='KLT')\n",
    "plt.legend(loc='upper right')\n",
    "plt.show()"
   ]
  },
  {
   "cell_type": "markdown",
   "metadata": {},
   "source": [
    "The RD curve using DEFLATE is similar to the one generated using the entropy."
   ]
  },
  {
   "cell_type": "markdown",
   "metadata": {},
   "source": [
    "## Impact of  each subband in the distortion of the reconstructed chunk\n",
    "Reconstructing the signal using only one subband (we compare the reconstructed signal and the original one)."
   ]
  },
  {
   "cell_type": "code",
   "execution_count": null,
   "metadata": {},
   "outputs": [],
   "source": [
    "def subband_stereo_DEFLATE_RD_curve(chunk, analyze, synthesize):\n",
    "    '''RD curves per subband.'''\n",
    "    mid_RD_points = []\n",
    "    side_RD_points = []\n",
    "    for q_step in range(16, 1024, 32):\n",
    "    #for q_step in range(1):\n",
    "        #q_step = 16\n",
    "        analyzed_chunk = analyze(chunk)\n",
    "        k, y = deadzone_qdeq(analyzed_chunk, q_step)\n",
    "\n",
    "        # We create side_RD_points by \"deleting\" subband 0, where mid lives.\n",
    "        tmp = y.copy()\n",
    "        tmp[:, 0] = 0\n",
    "        #print(tmp)\n",
    "        reconstructed_chunk = synthesize(tmp)\n",
    "        distortion = RMSE(chunk, reconstructed_chunk)\n",
    "        rate = len(zlib.compress(k[:, 1].copy()))\n",
    "        side_RD_points.append((rate, distortion))\n",
    "        \n",
    "        # Now create mid_RD_points by \"deleting\" subband 1, where side is.\n",
    "        tmp = y.copy()\n",
    "        tmp[:, 1] = 0\n",
    "        #print(chunk)\n",
    "        reconstructed_chunk = synthesize(tmp)\n",
    "        distortion = RMSE(chunk, reconstructed_chunk)\n",
    "        rate = len(zlib.compress(k[:, 0].copy()))\n",
    "        mid_RD_points.append((rate, distortion))\n",
    "        \n",
    "    return [mid_RD_points, side_RD_points]"
   ]
  },
  {
   "cell_type": "code",
   "execution_count": null,
   "metadata": {},
   "outputs": [],
   "source": [
    "MST_RD_points = subband_stereo_DEFLATE_RD_curve(x, MST_analyze, MST_synthesize)"
   ]
  },
  {
   "cell_type": "code",
   "execution_count": null,
   "metadata": {},
   "outputs": [],
   "source": [
    "plt.title(\"RD using only one subband\")\n",
    "plt.xlabel(\"Bytes\")\n",
    "plt.ylabel(\"RMSE\")\n",
    "#plt.xscale(\"log\")\n",
    "#plt.yscale(\"log\")\n",
    "plt.scatter(*zip(*MST_RD_points[0]), c='b', marker=\".\", label='Using only Mid')\n",
    "plt.scatter(*zip(*MST_RD_points[1]), c='r', marker=\".\", label='Using only Side')\n",
    "#plt.scatter(*zip(*KLT_RD_points), c='r', marker=\"x\", label='KLT')\n",
    "plt.legend(loc='upper right')\n",
    "plt.show()\n",
    "print(\"RMSE (using only zeros) =\", RMSE(x, np.zeros(x.shape)))"
   ]
  },
  {
   "cell_type": "markdown",
   "metadata": {},
   "source": [
    "### Another view of the same RD curves"
   ]
  },
  {
   "cell_type": "code",
   "execution_count": null,
   "metadata": {},
   "outputs": [],
   "source": [
    "fig = plt.figure()\n",
    "\n",
    "ax1 = fig.add_subplot(111)\n",
    "ax1.scatter(*zip(*MST_RD_points[0]), c='r', marker=\".\", label='')\n",
    "#ax1.legend(loc='upper right')\n",
    "#ax1.set_title('$\\Delta_0=\\Delta_1$')\n",
    "ax1.set_ylabel(\"RMSE (Only Mid Subband)\", color='r')\n",
    "ax1.set_xlabel(\"Bytes\")\n",
    "ax1.set_title(\"RMSE vs Bytes\")\n",
    "\n",
    "ax2 = ax1.twinx()\n",
    "ax2.scatter(*zip(*MST_RD_points[1]), c='b', marker=\".\", label='')\n",
    "#ax2.legend(loc='center right')\n",
    "ax2.set_ylabel(\"RMSE (Only Side Subband)\", color='b')\n",
    "\n",
    "plt.show()"
   ]
  },
  {
   "cell_type": "markdown",
   "metadata": {},
   "source": [
    "As it can be seen, the RD curve of the Mid subband has a larger impact on the quality of the reconstructed audio signal than than the Side channel (the dynamic range of the distortion is higher in the Mid subband). These results suggest that we should transmit more data of the Mid subband that of the Side subband. But what abount the quantization step used for each subband?"
   ]
  },
  {
   "cell_type": "markdown",
   "metadata": {},
   "source": [
    "## So ... how we must quantize the subbads?\n",
    "\n",
    "Ideally, in order to maximize the quality of the reconstructed signal, the quantization step for each subband should operate with identical RD slopes."
   ]
  },
  {
   "cell_type": "code",
   "execution_count": null,
   "metadata": {},
   "outputs": [],
   "source": [
    "slopes = [None]*2\n",
    "for subband in range(2):\n",
    "    slopes[subband] = []\n",
    "    prev = [MST_RD_points[subband][::-1][0][0]+1, 0]\n",
    "    for i in MST_RD_points[subband][::-1]:\n",
    "        try:\n",
    "            slope = (i[1] - prev[1])/(i[0] - prev[0])\n",
    "        except ZeroDivisionError:\n",
    "            slope = 0.0\n",
    "        #print(subband, slope)\n",
    "        slopes[subband].append(slope)\n",
    "        prev = i\n",
    "pylab.plot(np.linspace(0, len(slopes[0])-2, len(slopes[0])-1), slopes[0][1:], label=\"Mid\")\n",
    "pylab.plot(np.linspace(0, len(slopes[1])-2, len(slopes[1])-1), slopes[1][1:], label=\"Side\")\n",
    "pylab.legend(loc='lower right')\n",
    "pylab.title(\"RD slopes\")\n",
    "pylab.xlabel(\"Index of the RD point\")\n",
    "pylab.ylabel(\"Slope\")\n",
    "pylab.show()"
   ]
  },
  {
   "cell_type": "markdown",
   "metadata": {},
   "source": [
    "This result suggests that we must sent first all data of Mid and then, all data of Side."
   ]
  },
  {
   "cell_type": "markdown",
   "metadata": {},
   "source": [
    "## But, what $\\Delta$'s combination satisfies this condition? "
   ]
  },
  {
   "cell_type": "markdown",
   "metadata": {},
   "source": [
    "The subband gains in the MST ($\\sqrt{2}$) suggest that we could use the same quantization step for both subbands, because both subbands have the same gain ($\\Delta_0=\\Delta_1$). Notice that the dynamic range of $w_0$ is much larger than $w_1$ and therefore, using this heuristic we will send the Side subband only after the most part of the energy of the Mid subband has been send. Remember that we are using a deadzone uniform (scalar) quantizer and therefore, \"small\" (in amplitude) signals tends to be completelly attenuated except for small $\\Delta$'s.\n",
    "\n",
    "In order to check the performance of this quantization heuristic, we are going to compare two RD curves (in several different configurations). In the first one, $\\Delta_0=\\Delta_1$, for a set of quantization steps, and in the second curve, we are going to use only one quantization step for one of the subbands (for the other, the quantization step size has been fixed). If the heuristic were good, both curves should \"touch\" in one point, where also $\\Delta_0=\\Delta_1$."
   ]
  },
  {
   "cell_type": "code",
   "execution_count": null,
   "metadata": {},
   "outputs": [],
   "source": [
    "def stereo_DEFLATE_RD_curve_same_deltas(chunk, analyze, synthesize):\n",
    "    '''Both subbands are quantized using the same quantization step.'''\n",
    "    RD_points = []\n",
    "    for q_step in range(16, 2048, 32):\n",
    "        analyzed_chunk = analyze(chunk)\n",
    "        k, y = deadzone_qdeq(analyzed_chunk, q_step)\n",
    "        k_0 = k[:, 0].copy()\n",
    "        k_1 = k[:, 1].copy()\n",
    "        rate = len(zlib.compress(k_0)) + len(zlib.compress(k_1))\n",
    "        #rate = entropy_in_bits_per_symbol(k[:, 0]) + entropy_in_bits_per_symbol(k[:, 1])\n",
    "        #print(y)\n",
    "        reconstructed_chunk = synthesize(y)\n",
    "        distortion = RMSE(chunk, reconstructed_chunk)\n",
    "        RD_points.append((rate, distortion))\n",
    "        #RD_points.append((q_step, distortion))\n",
    "    return RD_points\n",
    "\n",
    "def stereo_DEFLATE_RD_curve_fixing_delta0(chunk, analyze, synthesize, delta):\n",
    "    '''Fixes delta_0 and varies delta_1.'''\n",
    "    RD_points = []\n",
    "    RQ_points = []\n",
    "    for q_step in range(16, 2048, 32):\n",
    "        analyzed_chunk = analyze(chunk)\n",
    "        subband_0 = analyzed_chunk[:, 0].copy()\n",
    "        subband_1 = analyzed_chunk[:, 1].copy()\n",
    "        k_0, y_0 = deadzone_qdeq(subband_0, delta)\n",
    "        k_1, y_1 = deadzone_qdeq(subband_1, q_step)\n",
    "        rate = len(zlib.compress(k_0)) + len(zlib.compress(k_1))\n",
    "        y = np.empty_like(x, dtype=np.int32)\n",
    "        y[:, 0] = y_0\n",
    "        y[:, 1] = y_1\n",
    "        reconstructed_chunk = synthesize(y)\n",
    "        distortion = RMSE(chunk, reconstructed_chunk)\n",
    "        RD_points.append((rate, distortion))\n",
    "        RQ_points.append((rate, q_step))\n",
    "    return RD_points, RQ_points\n",
    "\n",
    "def stereo_DEFLATE_RD_curve_fixing_delta1(chunk, analyze, synthesize, delta):\n",
    "    '''Fixes delta_1 and varies delta_0.'''\n",
    "    RD_points = []\n",
    "    QD_points = []\n",
    "    for q_step in range(16, 2048, 32):\n",
    "        analyzed_chunk = analyze(chunk)\n",
    "        subband_0 = analyzed_chunk[:, 0].copy()\n",
    "        subband_1 = analyzed_chunk[:, 1].copy()\n",
    "        k_0, y_0 = deadzone_qdeq(subband_0, q_step)\n",
    "        k_1, y_1 = deadzone_qdeq(subband_1, delta)\n",
    "        rate = len(zlib.compress(k_0)) + len(zlib.compress(k_1))\n",
    "        y = np.empty_like(x, dtype=np.int32)\n",
    "        y[:, 0] = y_0\n",
    "        y[:, 1] = y_1\n",
    "        reconstructed_chunk = synthesize(y)\n",
    "        distortion = RMSE(chunk, reconstructed_chunk)\n",
    "        RD_points.append((rate, distortion))\n",
    "        QD_points.append((rate, q_step))\n",
    "    return RD_points, QD_points\n",
    "\n",
    "def stereo_DEFLATE_RD_point(chunk, analyze, synthesize, delta):\n",
    "    '''Compute the RD point for delta_0=delta_1.'''\n",
    "    RD_points = []\n",
    "    analyzed_chunk = analyze(chunk)\n",
    "    subband_0 = analyzed_chunk[:, 0].copy()\n",
    "    subband_1 = analyzed_chunk[:, 1].copy()\n",
    "    k_0, y_0 = deadzone_qdeq(subband_0, delta)\n",
    "    k_1, y_1 = deadzone_qdeq(subband_1, delta)\n",
    "    rate = len(zlib.compress(k_0)) + len(zlib.compress(k_1))\n",
    "    y = np.empty_like(x, dtype=np.int32)\n",
    "    y[:, 0] = y_0\n",
    "    y[:, 1] = y_1\n",
    "    reconstructed_chunk = synthesize(y)\n",
    "    distortion = RMSE(chunk, reconstructed_chunk)\n",
    "    RD_points.append((rate, distortion))\n",
    "    return RD_points"
   ]
  },
  {
   "cell_type": "code",
   "execution_count": null,
   "metadata": {
    "scrolled": false
   },
   "outputs": [],
   "source": [
    "MST_RD_points_same_deltas = stereo_DEFLATE_RD_curve_same_deltas(x, MST_analyze, MST_synthesize)"
   ]
  },
  {
   "cell_type": "markdown",
   "metadata": {},
   "source": [
    "## $\\Delta=256$"
   ]
  },
  {
   "cell_type": "code",
   "execution_count": null,
   "metadata": {},
   "outputs": [],
   "source": [
    "delta = 256\n",
    "MST_RD_points_fixing_delta0, MST_RQ_points_fixing_delta0 = stereo_DEFLATE_RD_curve_fixing_delta0(x, MST_analyze, MST_synthesize, delta)\n",
    "MST_RD_points_fixing_delta1, MST_RQ_points_fixing_delta1 = stereo_DEFLATE_RD_curve_fixing_delta1(x, MST_analyze, MST_synthesize, delta)"
   ]
  },
  {
   "cell_type": "code",
   "execution_count": null,
   "metadata": {},
   "outputs": [],
   "source": [
    "MST_RD_point = stereo_DEFLATE_RD_point(x, MST_analyze, MST_synthesize, delta)"
   ]
  },
  {
   "cell_type": "code",
   "execution_count": null,
   "metadata": {},
   "outputs": [],
   "source": [
    "MST_RD_points_same_deltas"
   ]
  },
  {
   "cell_type": "code",
   "execution_count": null,
   "metadata": {},
   "outputs": [],
   "source": [
    "fig = plt.figure()\n",
    "ax1 = fig.add_subplot(111)\n",
    "ax1.scatter(*zip(*MST_RD_point), c='b', marker=\"o\", label=f'$\\Delta_0=\\Delta_1={delta}$')\n",
    "#ax1.scatter(*zip(*MST_RD_points_same_deltas), c='r', marker=\".\", label='$\\Delta_0=\\Delta_1$')\n",
    "ax1.plot(*zip(*MST_RD_points_same_deltas), c='r', label='$\\Delta_0=\\Delta_1$')\n",
    "#ax1.scatter(*zip(*MST_RD_points_fixing_delta0), c='g', marker=\".\", label=f'$\\Delta_0={delta}$, $\\Delta_1$ varies')\n",
    "ax1.plot(*zip(*MST_RD_points_fixing_delta0), c='g', label=f'$\\Delta_0={delta}$, $\\Delta_1$ varies')\n",
    "ax1.legend(loc='upper right')\n",
    "ax1.set_ylabel(\"RMSE\")\n",
    "ax1.set_xlabel(\"Bytes\")\n",
    "ax1.set_title(\"Exploring Rates, Distortions and $\\Delta$'s\")\n",
    "\n",
    "ax2 = ax1.twinx()\n",
    "ax2.scatter(*zip(*MST_RQ_points_fixing_delta0), c='c', marker=\".\", label='$\\Delta_1$')\n",
    "ax2.legend(loc='center right')\n",
    "ax2.set_ylabel(\"$\\Delta_1$\")\n",
    "plt.show()"
   ]
  },
  {
   "cell_type": "markdown",
   "metadata": {},
   "source": [
    "For the sake of curiosity, it has been plotted also the distortion VS quantization step size, but this curve is not relevant for determining the quantization pattern between subbands."
   ]
  },
  {
   "cell_type": "markdown",
   "metadata": {},
   "source": [
    "## Now for $\\Delta=512$"
   ]
  },
  {
   "cell_type": "code",
   "execution_count": null,
   "metadata": {},
   "outputs": [],
   "source": [
    "delta = 512\n",
    "MST_RD_points_fixing_delta0, MST_RQ_points_fixing_delta0 = stereo_DEFLATE_RD_curve_fixing_delta0(x, MST_analyze, MST_synthesize, delta)\n",
    "MST_RD_points_fixing_delta1, MST_RQ_points_fixing_delta1 = stereo_DEFLATE_RD_curve_fixing_delta1(x, MST_analyze, MST_synthesize, delta)"
   ]
  },
  {
   "cell_type": "code",
   "execution_count": null,
   "metadata": {},
   "outputs": [],
   "source": [
    "MST_RD_point = stereo_DEFLATE_RD_point(x, MST_analyze, MST_synthesize, delta)"
   ]
  },
  {
   "cell_type": "code",
   "execution_count": null,
   "metadata": {
    "scrolled": false
   },
   "outputs": [],
   "source": [
    "fig = plt.figure()\n",
    "ax1 = fig.add_subplot(111)\n",
    "ax1.scatter(*zip(*MST_RD_point), c='b', marker=\"o\", label=f'$\\Delta_0=\\Delta_1={delta}$')\n",
    "ax1.plot(*zip(*MST_RD_points_same_deltas), c='r', label='$\\Delta_0=\\Delta_1$')\n",
    "ax1.plot(*zip(*MST_RD_points_fixing_delta0), c='g', label=f'$\\Delta_0={delta}$, $\\Delta_1$ varies')\n",
    "ax1.legend(loc='upper right')\n",
    "ax1.set_ylabel(\"RMSE\")\n",
    "ax1.set_xlabel(\"Bytes\")\n",
    "ax1.set_title(\"Exploring Rates, Distortions and $\\Delta$'s\")\n",
    "\n",
    "ax2 = ax1.twinx()\n",
    "ax2.scatter(*zip(*MST_RQ_points_fixing_delta0), c='c', marker=\".\", label='$\\Delta_1$')\n",
    "ax2.legend(loc='center right')\n",
    "ax2.set_ylabel(\"$\\Delta_1$\")\n",
    "plt.show()"
   ]
  },
  {
   "cell_type": "markdown",
   "metadata": {},
   "source": [
    "## Let's see $\\Delta=1024$"
   ]
  },
  {
   "cell_type": "code",
   "execution_count": null,
   "metadata": {},
   "outputs": [],
   "source": [
    "delta = 1024\n",
    "MST_RD_points_fixing_delta0, MST_RQ_points_fixing_delta0 = stereo_DEFLATE_RD_curve_fixing_delta0(x, MST_analyze, MST_synthesize, delta)\n",
    "MST_RD_points_fixing_delta1, MST_RQ_points_fixing_delta1 = stereo_DEFLATE_RD_curve_fixing_delta1(x, MST_analyze, MST_synthesize, delta)"
   ]
  },
  {
   "cell_type": "code",
   "execution_count": null,
   "metadata": {},
   "outputs": [],
   "source": [
    "MST_RD_point = stereo_DEFLATE_RD_point(x, MST_analyze, MST_synthesize, delta)"
   ]
  },
  {
   "cell_type": "code",
   "execution_count": null,
   "metadata": {
    "scrolled": true
   },
   "outputs": [],
   "source": [
    "fig = plt.figure()\n",
    "ax1 = fig.add_subplot(111)\n",
    "ax1.scatter(*zip(*MST_RD_point), c='b', marker=\"o\", label=f'$\\Delta_0=\\Delta_1={delta}$')\n",
    "ax1.plot(*zip(*MST_RD_points_same_deltas), c='r', label='$\\Delta_0=\\Delta_1$')\n",
    "ax1.plot(*zip(*MST_RD_points_fixing_delta0), c='g', label=f'$\\Delta_0={delta}$, $\\Delta_1$ varies')\n",
    "ax1.legend(loc='upper right')\n",
    "ax1.set_ylabel(\"RMSE\")\n",
    "ax1.set_xlabel(\"Bytes\")\n",
    "ax1.set_title(\"Exploring Rates, Distortions and $\\Delta$'s\")\n",
    "\n",
    "ax2 = ax1.twinx()\n",
    "ax2.scatter(*zip(*MST_RQ_points_fixing_delta0), c='c', marker=\".\", label='$\\Delta_1$')\n",
    "ax2.legend(loc='center right')\n",
    "ax2.set_ylabel(\"$\\Delta_1$\")\n",
    "plt.show()"
   ]
  },
  {
   "cell_type": "markdown",
   "metadata": {},
   "source": [
    "## And now for $\\Delta=128$"
   ]
  },
  {
   "cell_type": "code",
   "execution_count": null,
   "metadata": {},
   "outputs": [],
   "source": [
    "delta = 128\n",
    "MST_RD_points_fixing_delta0, MST_RQ_points_fixing_delta0 = stereo_DEFLATE_RD_curve_fixing_delta0(x, MST_analyze, MST_synthesize, delta)\n",
    "MST_RD_points_fixing_delta1, MST_RQ_points_fixing_delta1 = stereo_DEFLATE_RD_curve_fixing_delta1(x, MST_analyze, MST_synthesize, delta)"
   ]
  },
  {
   "cell_type": "code",
   "execution_count": null,
   "metadata": {},
   "outputs": [],
   "source": [
    "MST_RD_point = stereo_DEFLATE_RD_point(x, MST_analyze, MST_synthesize, delta)"
   ]
  },
  {
   "cell_type": "code",
   "execution_count": null,
   "metadata": {
    "scrolled": true
   },
   "outputs": [],
   "source": [
    "fig = plt.figure()\n",
    "ax1 = fig.add_subplot(111)\n",
    "ax1.scatter(*zip(*MST_RD_point), c='b', marker=\"o\", label=f'$\\Delta_0=\\Delta_1={delta}$')\n",
    "ax1.plot(*zip(*MST_RD_points_same_deltas), c='r', label='$\\Delta_0=\\Delta_1$')\n",
    "ax1.plot(*zip(*MST_RD_points_fixing_delta0), c='g', label=f'$\\Delta_0={delta}$, $\\Delta_1$ varies')\n",
    "ax1.legend(loc='upper right')\n",
    "ax1.set_ylabel(\"RMSE\")\n",
    "ax1.set_xlabel(\"Bytes\")\n",
    "ax1.set_title(\"Exploring Rates, Distortions and $\\Delta$'s\")\n",
    "\n",
    "ax2 = ax1.twinx()\n",
    "ax2.scatter(*zip(*MST_RQ_points_fixing_delta0), c='c', marker=\".\", label='$\\Delta_1$')\n",
    "ax2.legend(loc='center right')\n",
    "ax2.set_ylabel(\"$\\Delta_1$\")\n",
    "plt.show()"
   ]
  },
  {
   "cell_type": "markdown",
   "metadata": {},
   "source": [
    "## And finally for $\\Delta=64$"
   ]
  },
  {
   "cell_type": "code",
   "execution_count": null,
   "metadata": {},
   "outputs": [],
   "source": [
    "delta = 64\n",
    "MST_RD_points_fixing_delta0, MST_RQ_points_fixing_delta0 = stereo_DEFLATE_RD_curve_fixing_delta0(x, MST_analyze, MST_synthesize, delta)\n",
    "MST_RD_points_fixing_delta1, MST_RQ_points_fixing_delta1 = stereo_DEFLATE_RD_curve_fixing_delta1(x, MST_analyze, MST_synthesize, delta)"
   ]
  },
  {
   "cell_type": "code",
   "execution_count": null,
   "metadata": {},
   "outputs": [],
   "source": [
    "MST_RD_point = stereo_DEFLATE_RD_point(x, MST_analyze, MST_synthesize, delta)"
   ]
  },
  {
   "cell_type": "code",
   "execution_count": null,
   "metadata": {},
   "outputs": [],
   "source": [
    "fig = plt.figure()\n",
    "ax1 = fig.add_subplot(111)\n",
    "ax1.scatter(*zip(*MST_RD_point), c='b', marker=\"o\", label=f'$\\Delta_0=\\Delta_1={delta}$')\n",
    "ax1.plot(*zip(*MST_RD_points_same_deltas), c='r', label='$\\Delta_0=\\Delta_1$')\n",
    "ax1.plot(*zip(*MST_RD_points_fixing_delta0), c='g', label=f'$\\Delta_0={delta}$, $\\Delta_1$ varies')\n",
    "ax1.legend(loc='upper right')\n",
    "ax1.set_ylabel(\"RMSE\")\n",
    "ax1.set_xlabel(\"Bytes\")\n",
    "ax1.set_title(\"Exploring Rates, Distortions and $\\Delta$'s\")\n",
    "\n",
    "ax2 = ax1.twinx()\n",
    "ax2.scatter(*zip(*MST_RQ_points_fixing_delta0), c='c', marker=\".\", label='$\\Delta_1$')\n",
    "ax2.legend(loc='center right')\n",
    "ax2.set_ylabel(\"$\\Delta_1$\")\n",
    "plt.show()"
   ]
  },
  {
   "cell_type": "markdown",
   "metadata": {},
   "source": [
    "## Conclusion"
   ]
  },
  {
   "cell_type": "markdown",
   "metadata": {},
   "source": [
    "The quantization patern $\\Delta_0=\\Delta_1$ works fine because except for intermediate bit-rates (for $\\Delta=128$), it minimizes the rate-distortion trade-off."
   ]
  },
  {
   "cell_type": "markdown",
   "metadata": {},
   "source": [
    "## ======== OLD STUFF ========="
   ]
  },
  {
   "cell_type": "code",
   "execution_count": null,
   "metadata": {},
   "outputs": [],
   "source": [
    "input()"
   ]
  },
  {
   "cell_type": "code",
   "execution_count": null,
   "metadata": {},
   "outputs": [],
   "source": [
    "import matplotlib.pyplot as plt\n",
    "import numpy as np\n",
    "\n",
    "T = np.array([6, 7, 8, 9, 10, 11, 12])\n",
    "power = np.array([1.53E+03, 5.92E+02, 2.04E+02, 7.24E+01, 2.72E+01, 1.10E+01, 4.70E+00])\n",
    "\n",
    "plt.plot(T,power)\n",
    "plt.show()"
   ]
  },
  {
   "cell_type": "code",
   "execution_count": null,
   "metadata": {},
   "outputs": [],
   "source": [
    "from scipy.interpolate import make_interp_spline, BSpline\n",
    "\n",
    "# 300 represents number of points to make between T.min and T.max\n",
    "T = np.arange(len(slopes)-1)\n",
    "power = slopes[1:]\n",
    "xnew = np.linspace(T.min(), T.max(), 300) \n",
    "#xnew = np.linspace(min(slopes), max(slopes), 200)\n",
    "\n",
    "spl = make_interp_spline(T, power, k=3)  # type: BSpline\n",
    "power_smooth = spl(xnew)\n",
    "\n",
    "plt.plot(xnew, power_smooth)\n",
    "plt.show()"
   ]
  },
  {
   "cell_type": "code",
   "execution_count": null,
   "metadata": {},
   "outputs": [],
   "source": [
    "print(slopes)\n",
    "xnew = np.linspace(min(slopes, man(slopes, 300)\n",
    "spl = make_interp_spline(slopes, power, k=3)  # type: BSpline\n",
    "power_smooth = spl(xnew)\n",
    "pylab.plot(xnew, power_smooth)\n",
    "pylab.show()"
   ]
  },
  {
   "cell_type": "code",
   "execution_count": null,
   "metadata": {},
   "outputs": [],
   "source": [
    "fig = plt.figure()\n",
    "ax1 = fig.add_subplot(111)\n",
    "ax1.scatter(*zip(*MST_RD_points_same_deltas), c='r', marker=\".\", label='$\\Delta_0=\\Delta_1$')\n",
    "ax1.scatter(*zip(*MST_RD_points_fixing_delta1), c='g', marker=\".\", label=f'$\\Delta_1={delta}$, $\\Delta_0$ varies')\n",
    "ax1.scatter(*zip(*MST_RD_point), c='b', marker=\"+\", label=f'$\\Delta_0=\\Delta_1={delta}$')\n",
    "ax1.legend(loc='upper right')\n",
    "ax1.set_ylabel(\"RMSE\")\n",
    "ax1.set_xlabel(\"Bytes\")\n",
    "ax1.set_title(\"Exploring Rates, Distortions and $\\Delta$'s\")\n",
    "\n",
    "ax2 = ax1.twinx()\n",
    "ax2.scatter(*zip(*MST_RQ_points_fixing_delta1), c='c', marker=\".\", label='$\\Delta_1$')\n",
    "ax2.legend(loc='upper right')\n",
    "ax2.set_ylabel(\"$\\Delta_0$\")\n",
    "plt.show()"
   ]
  },
  {
   "cell_type": "code",
   "execution_count": null,
   "metadata": {
    "scrolled": true
   },
   "outputs": [],
   "source": [
    "plt.title(\"R/D comparative\")\n",
    "plt.xlabel(\"Bytes\")\n",
    "plt.ylabel(\"RMSE\")\n",
    "#plt.xscale(\"log\")\n",
    "#plt.yscale(\"log\")\n",
    "plt.scatter(*zip(*MST_RD_points_same_deltas), c='r', marker=\".\", label='$\\Delta_0=\\Delta_1$')\n",
    "#plt.scatter(*zip(*MST_RD_points_different_deltas), c='g', marker=\".\", label='$\\Delta_1=\\sqrt{2}\\Delta_2$')\n",
    "plt.scatter(*zip(*MST_RD_points_fixing_delta0), c='g', marker=\".\", label=f'$\\Delta_0={delta}$, $\\Delta_1$ varies')\n",
    "plt.scatter(*zip(*MST_RQ_points_fixing_delta0), c='c', marker=\".\", label=f'$\\Delta_0={delta}$, $\\Delta_1$ varies')\n",
    "plt.scatter(*zip(*MST_RD_point), c='b', marker=\"o\", label=f'$\\Delta_0=\\Delta_0={delta}$')\n",
    "plt.legend(loc='upper right')\n",
    "plt.show()"
   ]
  },
  {
   "cell_type": "code",
   "execution_count": null,
   "metadata": {},
   "outputs": [],
   "source": [
    "delta = 512 # Rerun this experiment, variying the delta.\n",
    "MST_RD_points_fixing_delta1 = stereo_DEFLATE_RD_curve_fixing_delta1(x, MST_analyze, MST_synthesize, delta)"
   ]
  },
  {
   "cell_type": "code",
   "execution_count": null,
   "metadata": {},
   "outputs": [],
   "source": [
    "MST_RD_point = stereo_DEFLATE_RD_point(x, MST_analyze, MST_synthesize, delta)"
   ]
  },
  {
   "cell_type": "code",
   "execution_count": null,
   "metadata": {},
   "outputs": [],
   "source": [
    "plt.title(\"R/D comparative\")\n",
    "plt.xlabel(\"Bytes\")\n",
    "plt.ylabel(\"RMSE\")\n",
    "#plt.xscale(\"log\")\n",
    "#plt.yscale(\"log\")\n",
    "plt.scatter(*zip(*MST_RD_points_same_deltas), c='r', marker=\".\", label='$\\Delta_0=\\Delta_1$')\n",
    "#plt.scatter(*zip(*MST_RD_points_different_deltas), c='g', marker=\".\", label='$\\Delta_1=\\sqrt{2}\\Delta_2$')\n",
    "plt.scatter(*zip(*MST_RD_points_fixing_delta0), c='g', marker=\".\", label=f'$\\Delta_1={delta}$, $\\Delta_0$ varies')\n",
    "plt.scatter(*zip(*MST_RD_point), c='b', marker=\"o\", label=f'$\\Delta_0=\\Delta_1={delta}$')\n",
    "plt.legend(loc='upper right')\n",
    "plt.show()"
   ]
  },
  {
   "cell_type": "markdown",
   "metadata": {},
   "source": [
    "As a conclussion of this result, we can assume that using $\\Delta_0=\\Delta_1$ we are going to operate (approximately) with the same RD slope at both subbands."
   ]
  },
  {
   "cell_type": "markdown",
   "metadata": {},
   "source": [
    "## But is $\\Delta_0=\\Delta_1$ the optimal solution?"
   ]
  },
  {
   "cell_type": "code",
   "execution_count": null,
   "metadata": {},
   "outputs": [],
   "source": [
    "def stereo_DEFLATE_RD_curve_different_deltas(chunk, analyze, synthesize):\n",
    "    RD_points = []\n",
    "    for q_step in range(16, 1024, 32):\n",
    "        analyzed_chunk = analyze(chunk)\n",
    "        subband_0 = analyzed_chunk[:, 0].copy()\n",
    "        subband_1 = analyzed_chunk[:, 1].copy()\n",
    "        #k_0, y_0 = deadzone_qdeq(subband_0, int(1000.0*q_step))\n",
    "        k_0, y_0 = deadzone_qdeq(subband_0, q_step)\n",
    "        #k_0, y_0 = deadzone_qdeq(subband_0, int(1.4142*q_step))\n",
    "        k_1, y_1 = deadzone_qdeq(subband_1, int(1.4142*q_step))\n",
    "        #k_1, y_1 = deadzone_qdeq(subband_1, int(1.0*q_step))\n",
    "        #k_1, y_1 = deadzone_qdeq(subband_1, q_step)\n",
    "        rate = len(zlib.compress(k_0)) + len(zlib.compress(k_1))\n",
    "        y = np.empty_like(x, dtype=np.int32)\n",
    "        y[:, 0] = y_0\n",
    "        y[:, 1] = y_1\n",
    "        reconstructed_chunk = synthesize(y)\n",
    "        distortion = RMSE(chunk, reconstructed_chunk)\n",
    "        RD_points.append((rate, distortion))\n",
    "    return RD_points"
   ]
  },
  {
   "cell_type": "code",
   "execution_count": null,
   "metadata": {},
   "outputs": [],
   "source": [
    "MST_RD_points_different_deltas = stereo_DEFLATE_RD_curve_different_deltas(x, MST_analyze, MST_synthesize)"
   ]
  },
  {
   "cell_type": "code",
   "execution_count": null,
   "metadata": {},
   "outputs": [],
   "source": [
    "plt.title(\"R/D comparative\")\n",
    "plt.xlabel(\"Bytes\")\n",
    "plt.ylabel(\"RMSE\")\n",
    "#plt.xscale(\"log\")\n",
    "#plt.yscale(\"log\")\n",
    "plt.scatter(*zip(*MST_RD_points_same_deltas), c='r', marker=\".\", label='$\\Delta_0=\\Delta_1$')\n",
    "plt.scatter(*zip(*MST_RD_points_different_deltas), c='g', marker=\".\", label='$\\Delta_0\\\\ne\\Delta_1$')\n",
    "plt.legend(loc='upper right')\n",
    "plt.show()"
   ]
  },
  {
   "cell_type": "markdown",
   "metadata": {},
   "source": [
    "Probably not, but we are very close of it."
   ]
  },
  {
   "cell_type": "markdown",
   "metadata": {},
   "source": [
    "# ========== OLD STUFF =============="
   ]
  },
  {
   "cell_type": "markdown",
   "metadata": {},
   "source": [
    "## MSC/2"
   ]
  },
  {
   "cell_type": "code",
   "execution_count": null,
   "metadata": {},
   "outputs": [],
   "source": [
    "# Forward transform:\n",
    "#\n",
    "#  [w[0]] = 1/2 [1  1] [x[0]]\n",
    "#  [w[1]]       [1 -1] [x[1]]\n",
    "#\n",
    "# Inverse transform:\n",
    "#\n",
    "#  [x[0]] = [1  1] [w[0]]\n",
    "#  [x[1]]   [1 -1] [w[1]]\n",
    "\n",
    "def _MSC2_analyze(x):\n",
    "    w = np.empty_like(x, dtype=np.int32)\n",
    "    w[:, 0] = (x[:, 0].astype(np.int32) + x[:, 1])/2 # L(ow frequency subband)\n",
    "    w[:, 1] = (x[:, 0].astype(np.int32) - x[:, 1])/2 # H(igh frequency subband)\n",
    "    #w[:, 0] = w[:, 0] / 2\n",
    "    return w\n",
    "\n",
    "def MSC2_analyze(x):\n",
    "    w = np.empty_like(x, dtype=np.int32)\n",
    "    w[:, 0] = (x[:, 0].astype(np.int32) + x[:, 1])/2 # L(ow frequency subband)\n",
    "    w[:, 1] = (x[:, 0].astype(np.int32) - x[:, 1])/2 # H(igh frequency subband)\n",
    "    #w[:, 0] = w[:, 0] / 2\n",
    "    return w\n",
    "\n",
    "def _MSC2_synthesize(w):\n",
    "    x = np.empty_like(w, dtype=np.int16)\n",
    "    #w[:, 0] = w[:, 0] * 2\n",
    "    x[:, :] = MSC2_analyze(w)\n",
    "    return x\n",
    "\n",
    "def MSC2_synthesize(w):\n",
    "    x = np.empty_like(w, dtype=np.int16)\n",
    "    x[:, 0] = w[:, 1] + x[:, 1]\n",
    "    x[:, 1] = w[:, 0] - x[:, 0]\n",
    "    #w[:, 0] = w[:, 0] * 2\n",
    "    #x[:, :] = MSC2_analyze(w)\n",
    "    return x"
   ]
  },
  {
   "cell_type": "markdown",
   "metadata": {},
   "source": [
    "## MSC vs MSC2"
   ]
  },
  {
   "cell_type": "code",
   "execution_count": null,
   "metadata": {},
   "outputs": [],
   "source": [
    "MSC2_RD_points = RD_curve(x, MSC2_analyze, MSC2_synthesize)"
   ]
  },
  {
   "cell_type": "code",
   "execution_count": null,
   "metadata": {},
   "outputs": [],
   "source": [
    "plt.title(\"R/D comparative\")\n",
    "plt.xlabel(\"Bits per sample\")\n",
    "plt.ylabel(\"RMSE\")\n",
    "#plt.xscale(\"log\")\n",
    "#plt.yscale(\"log\")\n",
    "plt.scatter(*zip(*MSC_RD_points), c='b', marker=\"+\", label='MSC')\n",
    "plt.scatter(*zip(*MSC2_RD_points), c='r', marker=\"x\", label='MSC2')\n",
    "plt.legend(loc='upper right')\n",
    "plt.show()"
   ]
  },
  {
   "cell_type": "code",
   "execution_count": null,
   "metadata": {},
   "outputs": [],
   "source": [
    "%timeit MSC2_synthesize(MSC2_analyze(x))"
   ]
  },
  {
   "cell_type": "markdown",
   "metadata": {},
   "source": [
    "## ?? transform"
   ]
  },
  {
   "cell_type": "code",
   "execution_count": null,
   "metadata": {},
   "outputs": [],
   "source": [
    "# Forward transform:\n",
    "#\n",
    "#  [w[0]] = 1/2 [1  1] [x[0]]\n",
    "#  [w[1]]       [1 -1] [x[1]]\n",
    "#\n",
    "# Inverse transform:\n",
    "#\n",
    "#  [x[0]] = [1  1] [w[0]]\n",
    "#  [x[1]]   [1 -1] [w[1]]\n",
    "#\n",
    "# Forward transform:\n",
    "#\n",
    "#  w[1] = x[0] - x[1] \n",
    "#  w[0] = x[0] - w[1]/2\n",
    "#  w[1] /= 2\n",
    "#\n",
    "# Inverse transform:\n",
    "#\n",
    "#  w[1] *= 2\n",
    "#  x[0] = w[0] + w[1]/2\n",
    "#  x[1] = x[0] - w[1]\n",
    "\n",
    "def orig2_analyze(x):\n",
    "    w = np.empty_like(x, dtype=np.int32)\n",
    "    w[:, 1] = x[:, 0].astype(np.int32) - x[:, 1]\n",
    "    w[:, 0] = x[:, 0] - w[:, 1] / 2\n",
    "    w[:, 1] = w[:, 1] / 2\n",
    "    return w\n",
    "\n",
    "def orig2_synthesize(w):\n",
    "    x = np.empty_like(w, dtype=np.int16)\n",
    "    w[:, 1] = w[:, 1] * 2\n",
    "    x[:, 0] = w[:, 0] + w[:, 1]/2\n",
    "    x[:, 1] = x[:, 0] - w[:, 1]\n",
    "    return x"
   ]
  },
  {
   "cell_type": "code",
   "execution_count": null,
   "metadata": {},
   "outputs": [],
   "source": [
    "orig2_RD_points = RD_curve(x, orig2_analyze, orig2_synthesize)"
   ]
  },
  {
   "cell_type": "code",
   "execution_count": null,
   "metadata": {},
   "outputs": [],
   "source": [
    "plt.title(\"R/D comparative\")\n",
    "plt.xlabel(\"Bits per sample\")\n",
    "plt.ylabel(\"RMSE\")\n",
    "#plt.xscale(\"log\")\n",
    "#plt.yscale(\"log\")\n",
    "plt.scatter(*zip(*MSC_RD_points), c='b', marker=\"+\", label='MSC')\n",
    "plt.scatter(*zip(*orig2_RD_points), c='r', marker=\"x\", label='?')\n",
    "plt.legend(loc='upper right')\n",
    "plt.show()"
   ]
  },
  {
   "cell_type": "code",
   "execution_count": null,
   "metadata": {},
   "outputs": [],
   "source": [
    "%timeit orig2_synthesize(orig2_analyze(x))"
   ]
  },
  {
   "cell_type": "markdown",
   "metadata": {},
   "source": [
    "## ? transform"
   ]
  },
  {
   "cell_type": "code",
   "execution_count": null,
   "metadata": {},
   "outputs": [],
   "source": [
    "# Forward transform:\n",
    "#\n",
    "#  w[1] = x[1] - x[0] \n",
    "#  w[0] = x[0] + w[1]/2\n",
    "#  w[1] /= 2\n",
    "#\n",
    "# Inverse transform:\n",
    "#\n",
    "#  w[1] *= 2\n",
    "#  x[0] = w[0] - w[1]/2\n",
    "#  x[1] = x[0] + w[1]\n",
    "\n",
    "def orig_analyze(x):\n",
    "    w = np.empty_like(x, dtype=np.int32)\n",
    "    w[:, 1] = x[:, 1].astype(np.int32) - x[:, 0]\n",
    "    w[:, 0] = x[:, 0] + np.rint(w[:, 1] / 2)\n",
    "    w[:, 1] = np.rint(w[:, 1] / 2)\n",
    "    return w\n",
    "\n",
    "def orig_synthesize(w):\n",
    "    x = np.empty_like(w, dtype=np.int16)\n",
    "    w[:, 1] = w[:, 1] * 2\n",
    "    x[:, 0] = w[:, 0] - np.rint(w[:, 1]/2)\n",
    "    x[:, 1] = w[:, 1] + x[:, 0]\n",
    "    return x"
   ]
  },
  {
   "cell_type": "code",
   "execution_count": null,
   "metadata": {},
   "outputs": [],
   "source": [
    "orig_RD_points = RD_curve(x, orig_analyze, orig_synthesize)"
   ]
  },
  {
   "cell_type": "code",
   "execution_count": null,
   "metadata": {},
   "outputs": [],
   "source": [
    "plt.title(\"R/D comparative\")\n",
    "plt.xlabel(\"Bits per sample\")\n",
    "plt.ylabel(\"RMSE\")\n",
    "#plt.xscale(\"log\")\n",
    "#plt.yscale(\"log\")\n",
    "plt.scatter(*zip(*MSC_RD_points), c='b', marker=\"+\", label='MSC')\n",
    "plt.scatter(*zip(*orig_RD_points), c='r', marker=\"x\", label='?')\n",
    "plt.legend(loc='upper right')\n",
    "plt.show()"
   ]
  },
  {
   "cell_type": "code",
   "execution_count": null,
   "metadata": {},
   "outputs": [],
   "source": [
    "# Introduction to Data Compression (Sayood), pag. 402\n",
    "\n",
    "def pordeterminar_analyze(chunk):\n",
    "    analyzed_chunk = np.empty_like(chunk, dtype=np.int16)\n",
    "    analyzed_chunk[:, 1] = chunk[:, 1] - chunk[:, 0]\n",
    "    analyzed_chunk[:, 0] = chunk[:, 0] + np.rint(analyzed_chunk[:, 1]/2)\n",
    "    return analyzed_chunk\n",
    "\n",
    "def pordeterminar_synthesize(analyzed_chunk):\n",
    "    chunk = np.empty_like(analyzed_chunk, dtype=np.int16)\n",
    "    chunk[:, 0] = analyzed_chunk[:, 0] - np.rint(analyzed_chunk[:, 1]/2)\n",
    "    chunk[:, 1] = analyzed_chunk[:, 1] + chunk[:, 0]\n",
    "    return chunk"
   ]
  },
  {
   "cell_type": "code",
   "execution_count": null,
   "metadata": {},
   "outputs": [],
   "source": [
    "def orig2_analyze(chunk):\n",
    "    analyzed_chunk = np.empty_like(chunk, dtype=np.int16)\n",
    "    analyzed_chunk[:, 1] = chunk[:, 1] - chunk[:, 0]\n",
    "    analyzed_chunk[:, 0] = (chunk[:, 0] + chunk[:, 1]) // 2\n",
    "    return analyzed_chunk\n",
    "\n",
    "def orig2_synthesize(analyzed_chunk):\n",
    "    chunk = np.empty_like(analyzed_chunk, dtype=np.int16)\n",
    "    chunk[:, 1] = analyzed_chunk[:, 0] + analyzed_chunk[:, 1] // 2\n",
    "    chunk[:, 0] = chunk[:, 1] - analyzed_chunk[:, 1]\n",
    "    return chunk"
   ]
  },
  {
   "cell_type": "code",
   "execution_count": null,
   "metadata": {},
   "outputs": [],
   "source": [
    "def orig3_analyze(chunk):\n",
    "    analyzed_chunk = np.empty_like(chunk, dtype=np.int16)\n",
    "    analyzed_chunk[:, 1] = chunk[:, 1] - chunk[:, 0]\n",
    "    analyzed_chunk[:, 0] = chunk[:, 0] + np.rint(analyzed_chunk[:, 1]/2)\n",
    "    analyzed_chunk[:, 1] = analyzed_chunk[:, 1] // 2\n",
    "    return analyzed_chunk\n",
    "\n",
    "def orig3_synthesize(analyzed_chunk):\n",
    "    chunk = np.empty_like(analyzed_chunk, dtype=np.int16)\n",
    "    analyzed_chunk[:, 1] = analyzed_chunk[:, 1] * 2\n",
    "    chunk[:, 0] = analyzed_chunk[:, 0] - np.rint(analyzed_chunk[:, 1]/2)\n",
    "    chunk[:, 1] = analyzed_chunk[:, 1] + chunk[:, 0]\n",
    "    return chunk"
   ]
  },
  {
   "cell_type": "code",
   "execution_count": null,
   "metadata": {},
   "outputs": [],
   "source": [
    "orig_RD_points = RD_curve(x, orig_analyze, orig_synthesize)"
   ]
  },
  {
   "cell_type": "code",
   "execution_count": null,
   "metadata": {},
   "outputs": [],
   "source": [
    "orig2_RD_points = RD_curve(x, orig2_analyze, orig2_synthesize)"
   ]
  },
  {
   "cell_type": "code",
   "execution_count": null,
   "metadata": {},
   "outputs": [],
   "source": [
    "orig3_RD_points = RD_curve(x, orig3_analyze, orig3_synthesize)"
   ]
  },
  {
   "cell_type": "code",
   "execution_count": null,
   "metadata": {},
   "outputs": [],
   "source": [
    "pd_RD_points = RD_curve(x, pordeterminar_analyze, pordeterminar_synthesize)"
   ]
  },
  {
   "cell_type": "code",
   "execution_count": null,
   "metadata": {},
   "outputs": [],
   "source": [
    "plt.title(\"R/D comparative\")\n",
    "plt.xlabel(\"Bits per sample\")\n",
    "plt.ylabel(\"RMSE\")\n",
    "#plt.xscale(\"log\")\n",
    "#plt.yscale(\"log\")\n",
    "plt.scatter(*zip(*MS_RD_points), c='b', marker=\"o\", label='MS')\n",
    "plt.scatter(*zip(*KLT_RD_points), c='g', marker=\"^\", label='KLT')\n",
    "plt.scatter(*zip(*orig_RD_points), c='r', marker=\"v\", label='orig')\n",
    "plt.scatter(*zip(*orig2_RD_points), c='m', marker=\"x\", label='orig2')\n",
    "plt.scatter(*zip(*orig3_RD_points), c='c', marker=\"h\", label='orig3')\n",
    "plt.scatter(*zip(*pd_RD_points), c='y', marker=\"+\", label='pd')\n",
    "plt.legend(loc='upper right')\n",
    "plt.show()"
   ]
  },
  {
   "cell_type": "code",
   "execution_count": null,
   "metadata": {},
   "outputs": [],
   "source": [
    "import matplotlib.pyplot as plt\n",
    "import numpy as np\n",
    "from matplotlib.legend_handler import HandlerLine2D\n",
    "\n",
    "t = np.arange(0.0, 1.0, 0.001)\n",
    "h = 0.1*np.sin(10*t)\n",
    "x = 4*t-5*t**2\n",
    "\n",
    "line1, = plt.plot(t, h, label='h(t)')\n",
    "#line2, = plt.plot(t, x, label='x(t)', linestyle='--')\n",
    "line2, = plt.plot(t[t<0.8], x[t<0.8], label='x(t)', linestyle='--')\n",
    "\n",
    "plt.legend(handler_map={line1: HandlerLine2D(numpoints=4)})\n",
    "\n",
    "plt.xlabel('time')\n",
    "plt.ylabel('height')\n",
    "plt.title('Fig 1.')\n",
    "plt.grid(False)\n",
    "plt.savefig(\"Plot.png\")\n",
    "plt.show()   "
   ]
  },
  {
   "cell_type": "code",
   "execution_count": null,
   "metadata": {},
   "outputs": [],
   "source": [
    "import numpy as np\n",
    "import matplotlib.pyplot as plt\n",
    "\n",
    "x = np.linspace(0, 2*np.pi)\n",
    "y1 = np.sin(x);\n",
    "y2 = 0.01 * np.cos(x);\n",
    "\n",
    "fig = plt.figure()\n",
    "ax1 = fig.add_subplot(111)\n",
    "ax1.plot(x, y1)\n",
    "ax1.set_ylabel('y1')\n",
    "\n",
    "ax2 = ax1.twinx()\n",
    "ax2.plot(x, y2, 'r-')\n",
    "ax2.set_ylabel('y2', color='r')\n",
    "#for tl in ax2.get_yticklabels():\n",
    "#    tl.set_color('r')"
   ]
  },
  {
   "cell_type": "code",
   "execution_count": null,
   "metadata": {},
   "outputs": [],
   "source": [
    "mid_min_rate = min(MST_RD_points[0][:])[0]\n",
    "mid_max_rate = max(MST_RD_points[0][:])[0]\n",
    "mid_min_distortion = min(MST_RD_points[0][:])[1]\n",
    "mid_max_distortion = max(MST_RD_points[0][:])[1]\n",
    "print(mid_min_rate, mid_max_rate, mid_min_distortion, mid_max_distortion)\n",
    "\n",
    "side_min_rate = min(MST_RD_points[1][:])[0]\n",
    "side_max_rate = max(MST_RD_points[1][:])[0]\n",
    "side_min_distortion = min(MST_RD_points[1][:])[1]\n",
    "side_max_distortion = max(MST_RD_points[1][:])[1]\n",
    "print(side_min_rate, side_max_rate, side_min_distortion, side_max_distortion)\n",
    "\n",
    "#min_rate = min(mid_min_rate, side_min_rate)\n",
    "max_rate = max(mid_max_rate, side_max_rate)\n",
    "\n",
    "\n",
    "plt.subplot(121)\n",
    "plt.scatter(*zip(*MST_RD_points[0]), c='b', marker=\"+\", label='')\n",
    "plt.title('Only Mid Subband')\n",
    "plt.xlabel('Bytes')\n",
    "plt.ylabel('RMSE')\n",
    "plt.xlim(0, max_rate)\n",
    "plt.ylim(mid_max_distortion, mid_min_distortion)\n",
    "\n",
    "plt.subplot(122)\n",
    "plt.scatter(*zip(*MST_RD_points[1]), c='r', marker=\"+\", label='')\n",
    "plt.title('Only Side Subband')\n",
    "plt.xlabel('Bytes')\n",
    "plt.xlim(0, max_rate)\n",
    "#plt.ylim(4957, 5027)\n",
    "#plt.ylabel('RMSE')\n",
    "\n",
    "plt.show()"
   ]
  },
  {
   "cell_type": "code",
   "execution_count": null,
   "metadata": {},
   "outputs": [],
   "source": []
  }
 ],
 "metadata": {
  "kernelspec": {
   "display_name": "Python 3 (ipykernel)",
   "language": "python",
   "name": "python3"
  },
  "language_info": {
   "codemirror_mode": {
    "name": "ipython",
    "version": 3
   },
   "file_extension": ".py",
   "mimetype": "text/x-python",
   "name": "python",
   "nbconvert_exporter": "python",
   "pygments_lexer": "ipython3",
   "version": "3.10.4"
  }
 },
 "nbformat": 4,
 "nbformat_minor": 2
}
