{
 "cells": [
  {
   "cell_type": "markdown",
   "metadata": {},
   "source": [
    "# Scalar [Quantization](https://en.wikipedia.org/wiki/Quantization_(signal_processing)) of Digital Audio\n",
    "\n",
    "See https://github.com/vicente-gonzalez-ruiz/quantization."
   ]
  },
  {
   "cell_type": "code",
   "execution_count": null,
   "metadata": {},
   "outputs": [],
   "source": [
    "%%bash\n",
    "if [ -d \"$HOME/repos\" ]; then\n",
    "    echo \"\\\"$HOME/repos\\\" exists\"\n",
    "else\n",
    "    mkdir ~/repos\n",
    "    echo Created $HOME/repos\n",
    "fi"
   ]
  },
  {
   "cell_type": "code",
   "execution_count": null,
   "metadata": {},
   "outputs": [],
   "source": [
    "%%bash\n",
    "if [ -d \"$HOME/repos/scalar_quantization\" ]; then\n",
    "    cd $HOME/repos/scalar_quantization\n",
    "    echo \"$HOME/repos/scalar_quantization ... \"\n",
    "    git pull \n",
    "else\n",
    "    cd $HOME/repos\n",
    "    git clone https://github.com/vicente-gonzalez-ruiz/scalar_quantization.git\n",
    "fi"
   ]
  },
  {
   "cell_type": "code",
   "execution_count": null,
   "metadata": {},
   "outputs": [],
   "source": [
    "!ln -sf ~/repos/scalar_quantization/common.py .\n",
    "!ln -sf ~/repos/scalar_quantization/quantization.py .\n",
    "!ln -sf ~/repos/scalar_quantization/midtread_quantization.py .\n",
    "!ln -sf ~/repos/scalar_quantization/midrise_quantization.py .\n",
    "!ln -sf ~/repos/scalar_quantization/companded_quantization.py .\n",
    "!ln -sf ~/repos/scalar_quantization/deadzone_quantization.py .\n",
    "import common\n",
    "import midtread_quantization as midtread\n",
    "import midrise_quantization as midrise\n",
    "import deadzone_quantization as deadzone\n",
    "import companded_quantization as companded"
   ]
  },
  {
   "cell_type": "code",
   "execution_count": null,
   "metadata": {},
   "outputs": [],
   "source": [
    "%matplotlib inline\n",
    "\n",
    "import math\n",
    "import numpy as np\n",
    "import time"
   ]
  },
  {
   "cell_type": "markdown",
   "metadata": {},
   "source": [
    "## Subjective comparison"
   ]
  },
  {
   "cell_type": "code",
   "execution_count": null,
   "metadata": {},
   "outputs": [],
   "source": [
    "import sounddevice as sd\n",
    "sr = 44100\n",
    "duration = 2.0  # seconds\n",
    "x = sd.rec(int(duration * sr), samplerate=sr, channels=1, dtype=np.int16)\n",
    "print(\"Speak!\")\n",
    "while sd.wait():\n",
    "    pass\n",
    "print(\"done\")"
   ]
  },
  {
   "cell_type": "code",
   "execution_count": null,
   "metadata": {},
   "outputs": [],
   "source": [
    "sd.play(x)\n",
    "common.plot(np.linspace(0, len(x)-1, len(x)), x, \"Time\", \"Amplitude\", \"Audio Signal\")"
   ]
  },
  {
   "cell_type": "code",
   "execution_count": null,
   "metadata": {},
   "outputs": [],
   "source": [
    "len(x)"
   ]
  },
  {
   "cell_type": "code",
   "execution_count": null,
   "metadata": {},
   "outputs": [],
   "source": [
    "dir(midtread)"
   ]
  },
  {
   "cell_type": "code",
   "execution_count": null,
   "metadata": {},
   "outputs": [],
   "source": [
    "Q_step = 10000\n",
    "Q_midtread = midtread.Midtread_Quantizer(Q_step=Q_step, min_val=-32768, max_val=32767)\n",
    "Q_midrise = midrise.Midrise_Quantizer(Q_step=Q_step, min_val=-32768, max_val=32767)\n",
    "Q_deadzone = deadzone.Deadzone_Quantizer(Q_step=Q_step, min_val=-32768, max_val=32767)\n",
    "Q_companded = companded.Companded_Quantizer(Q_step=Q_step, min_val=-32768, max_val=32767)"
   ]
  },
  {
   "cell_type": "code",
   "execution_count": null,
   "metadata": {},
   "outputs": [],
   "source": [
    "y_T, k_T  = Q_midtread.encode_and_decode(x)\n",
    "y_T = y_T.astype(np.int16)  # soundevice process up to 16 bits/sample\n",
    "y_R, k_R  = Q_midrise.encode_and_decode(x)\n",
    "y_R = y_R.astype(np.int16)\n",
    "y_D, k_D = Q_deadzone.encode_and_decode(x)\n",
    "y_D = y_D.astype(np.int16)\n",
    "y_C, k_C  = Q_companded.encode_and_decode(x)\n",
    "y_C = y_C.astype(np.int16)"
   ]
  },
  {
   "cell_type": "code",
   "execution_count": null,
   "metadata": {},
   "outputs": [],
   "source": [
    "sd.play(y_T.astype(np.int16))\n",
    "common.plot(np.linspace(0, len(y_T)-1, len(y_T)), y_T, \"Time\", \"Amplitude\", \"Mid-tread ($\\Delta={}$)\".format(Q_step))\n",
    "time.sleep(duration)"
   ]
  },
  {
   "cell_type": "code",
   "execution_count": null,
   "metadata": {},
   "outputs": [],
   "source": [
    "sd.play(y_R)\n",
    "common.plot(np.linspace(0, len(y_R)-1, len(y_R)), y_R, \"Time\", \"Amplitude\", \"Mid-rise ($\\Delta={}$)\".format(Q_step))\n",
    "time.sleep(duration)"
   ]
  },
  {
   "cell_type": "code",
   "execution_count": null,
   "metadata": {},
   "outputs": [],
   "source": [
    "sd.play(y_D)\n",
    "common.plot(np.linspace(0, len(y_D)-1, len(y_D)), y_D, \"Time\", \"Amplitude\", \"Dead-zone ($\\Delta={}$)\".format(Q_step))\n",
    "time.sleep(duration)"
   ]
  },
  {
   "cell_type": "code",
   "execution_count": null,
   "metadata": {},
   "outputs": [],
   "source": [
    "sd.play(y_C)\n",
    "common.plot(np.linspace(0, len(y_C)-1, len(y_C)), y_C, \"Time\", \"Amplitude\", \"Companded Dead-zone ($\\Delta={}$)\".format(Q_step))"
   ]
  },
  {
   "cell_type": "code",
   "execution_count": null,
   "metadata": {},
   "outputs": [],
   "source": [
    "common.plot(np.linspace(0, len(k_T)-1, len(k_T)), k_T, \"Time\", \"Representation Codes\", \"Mid-tread ($\\Delta={}$)\".format(Q_step))\n",
    "common.plot(np.linspace(0, len(k_R)-1, len(k_R)), k_R, \"Time\", \"Representation Codes\", \"Mid-rise ($\\Delta={}$)\".format(Q_step))\n",
    "common.plot(np.linspace(0, len(k_D)-1, len(k_D)), k_D, \"Time\", \"Representation Codes\", \"Dead-zone ($\\Delta={}$)\".format(Q_step))\n",
    "common.plot(np.linspace(0, len(k_C)-1, len(k_C)), k_C, \"Time\", \"Representation Codes\", \"Companded Dead-zone ($\\Delta={}$)\".format(Q_step))"
   ]
  },
  {
   "cell_type": "code",
   "execution_count": null,
   "metadata": {},
   "outputs": [],
   "source": [
    "error_T = x - y_T\n",
    "error_R = x - y_R\n",
    "error_D = x - y_D\n",
    "error_C = x - y_C"
   ]
  },
  {
   "cell_type": "code",
   "execution_count": null,
   "metadata": {},
   "outputs": [],
   "source": [
    "sd.play(error_T)\n",
    "common.plot(np.linspace(0, len(y_T)-1, len(y_T)), error_T, \"Time\", \"Amplitude Error\", \"Mid-tread ($\\Delta={}$)\".format(Q_step))\n",
    "time.sleep(duration)"
   ]
  },
  {
   "cell_type": "code",
   "execution_count": null,
   "metadata": {},
   "outputs": [],
   "source": [
    "sd.play(error_R)\n",
    "common.plot(np.linspace(0, len(y_R)-1, len(y_R)), error_R, \"Time\", \"Amplitude Error\", \"Mid-rise ($\\Delta={}$)\".format(Q_step))\n",
    "time.sleep(duration)"
   ]
  },
  {
   "cell_type": "code",
   "execution_count": null,
   "metadata": {},
   "outputs": [],
   "source": [
    "sd.play(error_D)\n",
    "common.plot(np.linspace(0, len(y_D)-1, len(y_D)), error_D, \"Time\", \"Amplitude Error\", \"Dead-zone ($\\Delta={}$)\".format(Q_step))\n",
    "time.sleep(duration)"
   ]
  },
  {
   "cell_type": "code",
   "execution_count": null,
   "metadata": {},
   "outputs": [],
   "source": [
    "sd.play(error_C)\n",
    "common.plot(np.linspace(0, len(y_C)-1, len(y_C)), error_C, \"Time\", \"Amplitude Error\", \"Companded Dead-zone ($\\Delta={}$)\".format(Q_step))"
   ]
  },
  {
   "cell_type": "markdown",
   "metadata": {},
   "source": [
    "## Objective comparison (Rate/Distortion curve)"
   ]
  },
  {
   "cell_type": "code",
   "execution_count": null,
   "metadata": {},
   "outputs": [],
   "source": [
    "%%bash\n",
    "if [ -d \"$HOME/repos/information_theory\" ]; then\n",
    "    cd $HOME/repos/image_IO\n",
    "    echo \"$HOME/repos/information_theory ... \"\n",
    "    git pull \n",
    "else\n",
    "    cd $HOME/repos\n",
    "    git clone https://github.com/vicente-gonzalez-ruiz/information_theory.git\n",
    "fi"
   ]
  },
  {
   "cell_type": "code",
   "execution_count": null,
   "metadata": {},
   "outputs": [],
   "source": [
    "try:\n",
    "    import skimage\n",
    "except:\n",
    "    !pip install scikit-image\n",
    "    import skimage"
   ]
  },
  {
   "cell_type": "code",
   "execution_count": null,
   "metadata": {},
   "outputs": [],
   "source": [
    "!ln -sf ~/repos/information_theory/distortion.py .\n",
    "!ln -sf ~/repos/information_theory/information.py .\n",
    "import distortion\n",
    "import information"
   ]
  },
  {
   "cell_type": "markdown",
   "metadata": {},
   "source": [
    "### RMSE vs bit-rate"
   ]
  },
  {
   "cell_type": "code",
   "execution_count": null,
   "metadata": {},
   "outputs": [],
   "source": [
    "def RD_curve(x, quantizer):\n",
    "    points = []\n",
    "    for q_step in range(1, 32768, 256):\n",
    "        Q = quantizer(Q_step=q_step, min_val=-32768, max_val=32767)\n",
    "        y, k = Q.encode_and_decode(x)\n",
    "        rate = information.entropy(k.flatten())\n",
    "        distortion_ = distortion.RMSE(x, y)\n",
    "        points.append((rate, distortion_))\n",
    "        print(rate, distortion_)\n",
    "    return points"
   ]
  },
  {
   "cell_type": "code",
   "execution_count": null,
   "metadata": {},
   "outputs": [],
   "source": [
    "midtread_RD_points = RD_curve(x, midtread.Midtread_Quantizer)"
   ]
  },
  {
   "cell_type": "code",
   "execution_count": null,
   "metadata": {},
   "outputs": [],
   "source": [
    "midrise_RD_points = RD_curve(x, midrise.Midrise_Quantizer)"
   ]
  },
  {
   "cell_type": "code",
   "execution_count": null,
   "metadata": {},
   "outputs": [],
   "source": [
    "deadzone_RD_points = RD_curve(x, deadzone.Deadzone_Quantizer)"
   ]
  },
  {
   "cell_type": "code",
   "execution_count": null,
   "metadata": {},
   "outputs": [],
   "source": [
    "companded_RD_points = RD_curve(x, companded.Companded_Quantizer)"
   ]
  },
  {
   "cell_type": "code",
   "execution_count": null,
   "metadata": {},
   "outputs": [],
   "source": [
    "import matplotlib\n",
    "import matplotlib.pyplot as plt"
   ]
  },
  {
   "cell_type": "code",
   "execution_count": null,
   "metadata": {
    "scrolled": false
   },
   "outputs": [],
   "source": [
    "plt.title(\"RD Tradeoff\")\n",
    "plt.xlabel(\"Bits per Sample\")\n",
    "plt.ylabel(\"RMSE\")\n",
    "#plt.xscale(\"log\")\n",
    "#plt.yscale(\"log\")\n",
    "plt.scatter(*zip(*midtread_RD_points), s=2, c='b', marker=\"o\", label='Mid-tread')\n",
    "plt.scatter(*zip(*midrise_RD_points), s=2, c='c', marker=\"o\", label='Mid-rise')\n",
    "plt.scatter(*zip(*deadzone_RD_points), s=2, c='r', marker=\"o\", label='Dead-zone')\n",
    "plt.scatter(*zip(*companded_RD_points), s=2, c='g', marker=\"o\", label='Companded Dead-zone')\n",
    "plt.legend(loc='upper right')\n",
    "plt.gcf().set_size_inches(1.0 * plt.gcf().get_size_inches())\n",
    "plt.show()"
   ]
  },
  {
   "cell_type": "code",
   "execution_count": null,
   "metadata": {},
   "outputs": [],
   "source": [
    "def QstepD_curve(x, quantizer):\n",
    "    QstepD_points = []\n",
    "    for q_step in range(1, 32768, 256):\n",
    "        Q = quantizer(Q_step=q_step, min_val=-32768, max_val=32767)\n",
    "        y, k = Q.encode_and_decode(x)\n",
    "        distortion_ = distortion.RMSE(x, y)\n",
    "        QstepD_points.append((q_step, distortion_))\n",
    "        print(q_step, distortion_)\n",
    "    return QstepD_points"
   ]
  },
  {
   "cell_type": "code",
   "execution_count": null,
   "metadata": {},
   "outputs": [],
   "source": [
    "midtread_QstepD_points = QstepD_curve(x, midtread.Midtread_Quantizer)"
   ]
  },
  {
   "cell_type": "code",
   "execution_count": null,
   "metadata": {},
   "outputs": [],
   "source": [
    "midrise_QstepD_points = QstepD_curve(x, midrise.Midrise_Quantizer)"
   ]
  },
  {
   "cell_type": "code",
   "execution_count": null,
   "metadata": {},
   "outputs": [],
   "source": [
    "deadzone_QstepD_points = QstepD_curve(x, deadzone.Deadzone_Quantizer)"
   ]
  },
  {
   "cell_type": "code",
   "execution_count": null,
   "metadata": {},
   "outputs": [],
   "source": [
    "companded_QstepD_points = QstepD_curve(x, companded.Companded_Quantizer)"
   ]
  },
  {
   "cell_type": "code",
   "execution_count": null,
   "metadata": {
    "scrolled": false
   },
   "outputs": [],
   "source": [
    "plt.title(\"$\\Delta$/D comparative\")\n",
    "plt.xlabel(\"$\\Delta$\")\n",
    "plt.ylabel(\"RMSE\")\n",
    "#plt.xscale(\"log\")\n",
    "#plt.yscale(\"log\")\n",
    "plt.scatter(*zip(*midtread_QstepD_points), s=2, c='b', marker=\"o\", label='Mid-tread')\n",
    "plt.scatter(*zip(*midrise_QstepD_points), s=2, c='c', marker=\"o\", label='Mid-rise')\n",
    "plt.scatter(*zip(*deadzone_QstepD_points), s=2, c='r', marker=\"o\", label='Dead-zone')\n",
    "plt.scatter(*zip(*companded_QstepD_points), s=2, c='g', marker=\"o\", label='Companded Dead-zone')\n",
    "plt.legend(loc='upper right')\n",
    "plt.show()"
   ]
  },
  {
   "cell_type": "markdown",
   "metadata": {},
   "source": [
    "In general, we can say that the distortion grows logarithmically with the quantization step."
   ]
  },
  {
   "cell_type": "code",
   "execution_count": null,
   "metadata": {},
   "outputs": [],
   "source": [
    "def QstepR_curve(x, quantizer):\n",
    "    points = []\n",
    "    for q_step in range(1, 32768, 256):\n",
    "        Q = quantizer(Q_step=q_step, min_val=-32768, max_val=32767)\n",
    "        y, k = Q.encode_and_decode(x)\n",
    "        rate = information.entropy(k.flatten())\n",
    "        points.append((q_step, rate))\n",
    "        print(q_step, rate)\n",
    "    return points"
   ]
  },
  {
   "cell_type": "code",
   "execution_count": null,
   "metadata": {},
   "outputs": [],
   "source": [
    "midtread_QstepR_points = QstepR_curve(x, midtread.Midtread_Quantizer)"
   ]
  },
  {
   "cell_type": "code",
   "execution_count": null,
   "metadata": {},
   "outputs": [],
   "source": [
    "midrise_QstepR_points = QstepR_curve(x, midrise.Midrise_Quantizer)"
   ]
  },
  {
   "cell_type": "code",
   "execution_count": null,
   "metadata": {},
   "outputs": [],
   "source": [
    "deadzone_QstepR_points = QstepR_curve(x, deadzone.Deadzone_Quantizer)"
   ]
  },
  {
   "cell_type": "code",
   "execution_count": null,
   "metadata": {},
   "outputs": [],
   "source": [
    "companded_QstepR_points = QstepR_curve(x, companded.Companded_Quantizer)"
   ]
  },
  {
   "cell_type": "code",
   "execution_count": null,
   "metadata": {
    "scrolled": false
   },
   "outputs": [],
   "source": [
    "plt.title(\"$\\Delta$/R comparative\")\n",
    "plt.xlabel(\"$\\Delta$\")\n",
    "plt.ylabel(\"Bits per sample\")\n",
    "#plt.xscale(\"log\")\n",
    "#plt.yscale(\"log\")\n",
    "plt.scatter(*zip(*midtread_QstepR_points), s=2, c='b', marker=\"o\", label='Mid-tread')\n",
    "plt.scatter(*zip(*midrise_QstepR_points), s=2, c='c', marker=\"o\", label='Mid-rise')\n",
    "plt.scatter(*zip(*deadzone_QstepR_points), s=2, c='r', marker=\"o\", label='Dead-zone')\n",
    "plt.scatter(*zip(*companded_QstepR_points), s=2, c='g', marker=\"o\", label='Companded Dead-zone')\n",
    "plt.legend(loc='upper right')\n",
    "plt.show()"
   ]
  },
  {
   "cell_type": "markdown",
   "metadata": {},
   "source": [
    "In general, we can say that the bit-rate decreases logarithmically with the quantization step."
   ]
  },
  {
   "cell_type": "markdown",
   "metadata": {},
   "source": [
    "### Using a logaritmic version of RMSE\n",
    "\n",
    "The [HAS](https://en.wikipedia.org/wiki/Auditory_system) is more sensitive to the variations of quiet sounds than to the variations of the loud sounds. For this reason, let's see what happens when we give more importance to the quiet sounds that to the loud sounds, using a compression of the dynamic range of the sounds."
   ]
  },
  {
   "cell_type": "code",
   "execution_count": null,
   "metadata": {},
   "outputs": [],
   "source": [
    "def log_average_energy(x):\n",
    "    '''In fact, average logaritmic energy.'''\n",
    "    return np.sum(np.log(np.abs(x.astype(np.double))+1)*np.log(np.abs(x.astype(np.double))+1))/len(x)"
   ]
  },
  {
   "cell_type": "code",
   "execution_count": null,
   "metadata": {},
   "outputs": [],
   "source": [
    "def log_RMSE(x, y):\n",
    "    error_signal = x - y\n",
    "    return math.sqrt(log_average_energy(error_signal))"
   ]
  },
  {
   "cell_type": "code",
   "execution_count": null,
   "metadata": {},
   "outputs": [],
   "source": [
    "def log_RD_curve(x, quantizer):\n",
    "    RD_points = []\n",
    "    for q_step in range(1, 32768, 256):\n",
    "        Q = quantizer(Q_step=q_step, min_val=-32768, max_val=32767)\n",
    "        y, k = Q.encode_and_decode(x)\n",
    "        rate = information.entropy(k.flatten())\n",
    "        distortion_ = log_RMSE(x, y)\n",
    "        RD_points.append((rate, distortion_))\n",
    "        print(rate, distortion_)\n",
    "    return RD_points"
   ]
  },
  {
   "cell_type": "code",
   "execution_count": null,
   "metadata": {},
   "outputs": [],
   "source": [
    "log_midtread_RD_points = log_RD_curve(x, midtread.Midtread_Quantizer)"
   ]
  },
  {
   "cell_type": "code",
   "execution_count": null,
   "metadata": {},
   "outputs": [],
   "source": [
    "log_midrise_RD_points = log_RD_curve(x, midrise.Midrise_Quantizer)"
   ]
  },
  {
   "cell_type": "code",
   "execution_count": null,
   "metadata": {},
   "outputs": [],
   "source": [
    "log_deadzone_RD_points = log_RD_curve(x, deadzone.Deadzone_Quantizer)"
   ]
  },
  {
   "cell_type": "code",
   "execution_count": null,
   "metadata": {},
   "outputs": [],
   "source": [
    "log_companded_RD_points = log_RD_curve(x, companded.Companded_Quantizer)"
   ]
  },
  {
   "cell_type": "code",
   "execution_count": null,
   "metadata": {},
   "outputs": [],
   "source": [
    "plt.title(\"R/D comparative\")\n",
    "plt.xlabel(\"Bits per sample\")\n",
    "plt.ylabel(\"(log) RMSE\")\n",
    "#plt.yscale(\"linear\")\n",
    "#plt.xscale(\"log\")\n",
    "plt.xlim(1, 16)\n",
    "plt.plot(*zip(*log_midtread_RD_points), c='b', marker=\".\", label='Mid-tread')\n",
    "plt.plot(*zip(*log_midrise_RD_points), c='c', marker=\".\", label='Mid-rise')\n",
    "plt.plot(*zip(*log_deadzone_RD_points), c='r', marker=\".\", label='Dead-zone')\n",
    "plt.plot(*zip(*log_companded_RD_points), c='g', marker=\".\", label='Companded Dead-zone')\n",
    "plt.legend(loc='upper right')\n",
    "plt.show()"
   ]
  },
  {
   "cell_type": "code",
   "execution_count": null,
   "metadata": {},
   "outputs": [],
   "source": [
    "# Could be useful if we replace RMSE by SNR\n",
    "def SNR(x, y):\n",
    "    signal_energy = compute_average_energy(x)\n",
    "    error_energy = compute_average_energy(x-y)\n",
    "    print(\"signal energy =\", signal_energy)\n",
    "    print(\"error energy =\", error_energy)\n",
    "    return 10*math.log(signal_energy/error_energy)"
   ]
  },
  {
   "cell_type": "code",
   "execution_count": null,
   "metadata": {},
   "outputs": [],
   "source": []
  }
 ],
 "metadata": {
  "kernelspec": {
   "display_name": "Python 3 (ipykernel)",
   "language": "python",
   "name": "python3"
  },
  "language_info": {
   "codemirror_mode": {
    "name": "ipython",
    "version": 3
   },
   "file_extension": ".py",
   "mimetype": "text/x-python",
   "name": "python",
   "nbconvert_exporter": "python",
   "pygments_lexer": "ipython3",
   "version": "3.10.4"
  }
 },
 "nbformat": 4,
 "nbformat_minor": 2
}
